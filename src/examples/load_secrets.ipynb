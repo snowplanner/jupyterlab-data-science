{
 "cells": [
  {
   "cell_type": "markdown",
   "id": "178fb621-d56f-4d10-b33d-eb71628272ba",
   "metadata": {},
   "source": [
    "# Load secrets\n",
    "\n",
    "🚫 **Never ever EVER use sensitive data or secrets directy.**\n",
    "\n",
    "Set environment variables in `.env` file at de repo root (outside Docker container) to store tokens, passwords and other information that must be kept safe. Environment variables (by convention written in uppercase) are accessible from notebooks as follows:"
   ]
  },
  {
   "cell_type": "code",
   "execution_count": 5,
   "id": "842b0103-11ab-475c-a9c7-d79b42dc85cf",
   "metadata": {},
   "outputs": [
    {
     "data": {
      "text/plain": [
       "'/opt/conda/bin:/usr/local/sbin:/usr/local/bin:/usr/sbin:/usr/bin:/sbin:/bin'"
      ]
     },
     "execution_count": 5,
     "metadata": {},
     "output_type": "execute_result"
    }
   ],
   "source": [
    "import os\n",
    "\n",
    "path = os.environ['PATH']\n",
    "\n",
    "path"
   ]
  },
  {
   "cell_type": "code",
   "execution_count": null,
   "id": "3089222b-4d04-4195-b0ea-4a0ed45e3bd1",
   "metadata": {},
   "outputs": [],
   "source": []
  }
 ],
 "metadata": {
  "kernelspec": {
   "display_name": "Python 3 (ipykernel)",
   "language": "python",
   "name": "python3"
  },
  "language_info": {
   "codemirror_mode": {
    "name": "ipython",
    "version": 3
   },
   "file_extension": ".py",
   "mimetype": "text/x-python",
   "name": "python",
   "nbconvert_exporter": "python",
   "pygments_lexer": "ipython3",
   "version": "3.9.12"
  }
 },
 "nbformat": 4,
 "nbformat_minor": 5
}
