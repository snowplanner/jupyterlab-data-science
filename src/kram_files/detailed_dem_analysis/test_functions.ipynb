{
 "cells": [
  {
   "cell_type": "code",
   "execution_count": 1,
   "metadata": {},
   "outputs": [
    {
     "name": "stderr",
     "output_type": "stream",
     "text": [
      "C:\\Users\\montse\\AppData\\Local\\Packages\\PythonSoftwareFoundation.Python.3.10_qbz5n2kfra8p0\\LocalCache\\local-packages\\Python310\\site-packages\\geopandas\\_compat.py:112: UserWarning: The Shapely GEOS version (3.10.2-CAPI-1.16.0) is incompatible with the GEOS version PyGEOS was compiled with (3.10.3-CAPI-1.16.1). Conversions between both will be slow.\n",
      "  warnings.warn(\n"
     ]
    }
   ],
   "source": [
    "import numpy as np\n",
    "import list_creator\n",
    "import rasters_treatment\n",
    "from dem_utils_import import load_json, plot_rast, load_rast\n",
    "from fundamental_functions_import import classify_rasters, statistics_kram"
   ]
  },
  {
   "cell_type": "markdown",
   "metadata": {},
   "source": [
    "## Test list_creator module:\n",
    "  - Height list\n",
    "  - Slope list\n",
    "  - cond_matrix\n",
    "  - output_path_list"
   ]
  },
  {
   "cell_type": "code",
   "execution_count": 2,
   "metadata": {},
   "outputs": [
    {
     "name": "stdout",
     "output_type": "stream",
     "text": [
      "Height list : [1900, 2000, 2100, 2200, 2300, 2400, 2500, 2700]\n",
      "Slope list : [0, 5, 10, 15, 20, 25, 30, 40, 90]\n",
      "Conditions list (up to 2 elem) : [[1900, 2000, 0, 5, 315, 45, 1], [2000, 2100, 0, 5, 315, 45, 1]]\n",
      "Output paths list (up to 1 elem) : ['../outputs/rasters/classified_rasters/1900_2000_0_5_north.tif']\n"
     ]
    }
   ],
   "source": [
    "#path_outputs = './outputs/rasters/classified_rasters/'\n",
    "path_outputs = '../outputs/rasters/classified_rasters/'\n",
    "path_gdf_outputs = './outputs/snow_depth_analysis/grau_roig/21_03_22/'\n",
    "list_aspect = [315, 45, 135, 225, 315]\n",
    "\n",
    "list_height = list_creator.height_list()\n",
    "list_slope = list_creator.slope_list()\n",
    "conditions_matrix = list_creator.cond_matrix(list_height, list_slope, list_aspect)\n",
    "list_output_paths = list_creator.output_path_list(conditions_matrix, path_outputs, '.tif')\n",
    "\n",
    "\n",
    "print('Height list :', list_height); print('Slope list :', list_slope)\n",
    "print('Conditions list (up to 2 elem) :', conditions_matrix[:2])\n",
    "print('Output paths list (up to 1 elem) :', list_output_paths[:1])"
   ]
  },
  {
   "cell_type": "code",
   "execution_count": 3,
   "metadata": {},
   "outputs": [
    {
     "data": {
      "text/plain": [
       "[[1900, 2000, 0, 5, 315, 45, 1],\n",
       " [2000, 2100, 0, 5, 315, 45, 1],\n",
       " [2100, 2200, 0, 5, 315, 45, 1],\n",
       " [2200, 2300, 0, 5, 315, 45, 1],\n",
       " [2300, 2400, 0, 5, 315, 45, 1],\n",
       " [2400, 2500, 0, 5, 315, 45, 1],\n",
       " [2500, 2700, 0, 5, 315, 45, 1],\n",
       " [1900, 2000, 5, 10, 315, 45, 1],\n",
       " [2000, 2100, 5, 10, 315, 45, 1],\n",
       " [2100, 2200, 5, 10, 315, 45, 1],\n",
       " [2200, 2300, 5, 10, 315, 45, 1],\n",
       " [2300, 2400, 5, 10, 315, 45, 1],\n",
       " [2400, 2500, 5, 10, 315, 45, 1],\n",
       " [2500, 2700, 5, 10, 315, 45, 1],\n",
       " [1900, 2000, 10, 15, 315, 45, 1],\n",
       " [2000, 2100, 10, 15, 315, 45, 1],\n",
       " [2100, 2200, 10, 15, 315, 45, 1],\n",
       " [2200, 2300, 10, 15, 315, 45, 1],\n",
       " [2300, 2400, 10, 15, 315, 45, 1],\n",
       " [2400, 2500, 10, 15, 315, 45, 1],\n",
       " [2500, 2700, 10, 15, 315, 45, 1],\n",
       " [1900, 2000, 15, 20, 315, 45, 1],\n",
       " [2000, 2100, 15, 20, 315, 45, 1],\n",
       " [2100, 2200, 15, 20, 315, 45, 1],\n",
       " [2200, 2300, 15, 20, 315, 45, 1],\n",
       " [2300, 2400, 15, 20, 315, 45, 1],\n",
       " [2400, 2500, 15, 20, 315, 45, 1],\n",
       " [2500, 2700, 15, 20, 315, 45, 1],\n",
       " [1900, 2000, 20, 25, 315, 45, 1],\n",
       " [2000, 2100, 20, 25, 315, 45, 1],\n",
       " [2100, 2200, 20, 25, 315, 45, 1],\n",
       " [2200, 2300, 20, 25, 315, 45, 1],\n",
       " [2300, 2400, 20, 25, 315, 45, 1],\n",
       " [2400, 2500, 20, 25, 315, 45, 1],\n",
       " [2500, 2700, 20, 25, 315, 45, 1],\n",
       " [1900, 2000, 25, 30, 315, 45, 1],\n",
       " [2000, 2100, 25, 30, 315, 45, 1],\n",
       " [2100, 2200, 25, 30, 315, 45, 1],\n",
       " [2200, 2300, 25, 30, 315, 45, 1],\n",
       " [2300, 2400, 25, 30, 315, 45, 1],\n",
       " [2400, 2500, 25, 30, 315, 45, 1],\n",
       " [2500, 2700, 25, 30, 315, 45, 1],\n",
       " [1900, 2000, 30, 40, 315, 45, 1],\n",
       " [2000, 2100, 30, 40, 315, 45, 1],\n",
       " [2100, 2200, 30, 40, 315, 45, 1],\n",
       " [2200, 2300, 30, 40, 315, 45, 1],\n",
       " [2300, 2400, 30, 40, 315, 45, 1],\n",
       " [2400, 2500, 30, 40, 315, 45, 1],\n",
       " [2500, 2700, 30, 40, 315, 45, 1],\n",
       " [1900, 2000, 40, 90, 315, 45, 1],\n",
       " [2000, 2100, 40, 90, 315, 45, 1],\n",
       " [2100, 2200, 40, 90, 315, 45, 1],\n",
       " [2200, 2300, 40, 90, 315, 45, 1],\n",
       " [2300, 2400, 40, 90, 315, 45, 1],\n",
       " [2400, 2500, 40, 90, 315, 45, 1],\n",
       " [2500, 2700, 40, 90, 315, 45, 1],\n",
       " [1900, 2000, 0, 5, 45, 135, 0],\n",
       " [2000, 2100, 0, 5, 45, 135, 0],\n",
       " [2100, 2200, 0, 5, 45, 135, 0],\n",
       " [2200, 2300, 0, 5, 45, 135, 0],\n",
       " [2300, 2400, 0, 5, 45, 135, 0],\n",
       " [2400, 2500, 0, 5, 45, 135, 0],\n",
       " [2500, 2700, 0, 5, 45, 135, 0],\n",
       " [1900, 2000, 5, 10, 45, 135, 0],\n",
       " [2000, 2100, 5, 10, 45, 135, 0],\n",
       " [2100, 2200, 5, 10, 45, 135, 0],\n",
       " [2200, 2300, 5, 10, 45, 135, 0],\n",
       " [2300, 2400, 5, 10, 45, 135, 0],\n",
       " [2400, 2500, 5, 10, 45, 135, 0],\n",
       " [2500, 2700, 5, 10, 45, 135, 0],\n",
       " [1900, 2000, 10, 15, 45, 135, 0],\n",
       " [2000, 2100, 10, 15, 45, 135, 0],\n",
       " [2100, 2200, 10, 15, 45, 135, 0],\n",
       " [2200, 2300, 10, 15, 45, 135, 0],\n",
       " [2300, 2400, 10, 15, 45, 135, 0],\n",
       " [2400, 2500, 10, 15, 45, 135, 0],\n",
       " [2500, 2700, 10, 15, 45, 135, 0],\n",
       " [1900, 2000, 15, 20, 45, 135, 0],\n",
       " [2000, 2100, 15, 20, 45, 135, 0],\n",
       " [2100, 2200, 15, 20, 45, 135, 0],\n",
       " [2200, 2300, 15, 20, 45, 135, 0],\n",
       " [2300, 2400, 15, 20, 45, 135, 0],\n",
       " [2400, 2500, 15, 20, 45, 135, 0],\n",
       " [2500, 2700, 15, 20, 45, 135, 0],\n",
       " [1900, 2000, 20, 25, 45, 135, 0],\n",
       " [2000, 2100, 20, 25, 45, 135, 0],\n",
       " [2100, 2200, 20, 25, 45, 135, 0],\n",
       " [2200, 2300, 20, 25, 45, 135, 0],\n",
       " [2300, 2400, 20, 25, 45, 135, 0],\n",
       " [2400, 2500, 20, 25, 45, 135, 0],\n",
       " [2500, 2700, 20, 25, 45, 135, 0],\n",
       " [1900, 2000, 25, 30, 45, 135, 0],\n",
       " [2000, 2100, 25, 30, 45, 135, 0],\n",
       " [2100, 2200, 25, 30, 45, 135, 0],\n",
       " [2200, 2300, 25, 30, 45, 135, 0],\n",
       " [2300, 2400, 25, 30, 45, 135, 0],\n",
       " [2400, 2500, 25, 30, 45, 135, 0],\n",
       " [2500, 2700, 25, 30, 45, 135, 0],\n",
       " [1900, 2000, 30, 40, 45, 135, 0],\n",
       " [2000, 2100, 30, 40, 45, 135, 0],\n",
       " [2100, 2200, 30, 40, 45, 135, 0],\n",
       " [2200, 2300, 30, 40, 45, 135, 0],\n",
       " [2300, 2400, 30, 40, 45, 135, 0],\n",
       " [2400, 2500, 30, 40, 45, 135, 0],\n",
       " [2500, 2700, 30, 40, 45, 135, 0],\n",
       " [1900, 2000, 40, 90, 45, 135, 0],\n",
       " [2000, 2100, 40, 90, 45, 135, 0],\n",
       " [2100, 2200, 40, 90, 45, 135, 0],\n",
       " [2200, 2300, 40, 90, 45, 135, 0],\n",
       " [2300, 2400, 40, 90, 45, 135, 0],\n",
       " [2400, 2500, 40, 90, 45, 135, 0],\n",
       " [2500, 2700, 40, 90, 45, 135, 0],\n",
       " [1900, 2000, 0, 5, 135, 225, 0],\n",
       " [2000, 2100, 0, 5, 135, 225, 0],\n",
       " [2100, 2200, 0, 5, 135, 225, 0],\n",
       " [2200, 2300, 0, 5, 135, 225, 0],\n",
       " [2300, 2400, 0, 5, 135, 225, 0],\n",
       " [2400, 2500, 0, 5, 135, 225, 0],\n",
       " [2500, 2700, 0, 5, 135, 225, 0],\n",
       " [1900, 2000, 5, 10, 135, 225, 0],\n",
       " [2000, 2100, 5, 10, 135, 225, 0],\n",
       " [2100, 2200, 5, 10, 135, 225, 0],\n",
       " [2200, 2300, 5, 10, 135, 225, 0],\n",
       " [2300, 2400, 5, 10, 135, 225, 0],\n",
       " [2400, 2500, 5, 10, 135, 225, 0],\n",
       " [2500, 2700, 5, 10, 135, 225, 0],\n",
       " [1900, 2000, 10, 15, 135, 225, 0],\n",
       " [2000, 2100, 10, 15, 135, 225, 0],\n",
       " [2100, 2200, 10, 15, 135, 225, 0],\n",
       " [2200, 2300, 10, 15, 135, 225, 0],\n",
       " [2300, 2400, 10, 15, 135, 225, 0],\n",
       " [2400, 2500, 10, 15, 135, 225, 0],\n",
       " [2500, 2700, 10, 15, 135, 225, 0],\n",
       " [1900, 2000, 15, 20, 135, 225, 0],\n",
       " [2000, 2100, 15, 20, 135, 225, 0],\n",
       " [2100, 2200, 15, 20, 135, 225, 0],\n",
       " [2200, 2300, 15, 20, 135, 225, 0],\n",
       " [2300, 2400, 15, 20, 135, 225, 0],\n",
       " [2400, 2500, 15, 20, 135, 225, 0],\n",
       " [2500, 2700, 15, 20, 135, 225, 0],\n",
       " [1900, 2000, 20, 25, 135, 225, 0],\n",
       " [2000, 2100, 20, 25, 135, 225, 0],\n",
       " [2100, 2200, 20, 25, 135, 225, 0],\n",
       " [2200, 2300, 20, 25, 135, 225, 0],\n",
       " [2300, 2400, 20, 25, 135, 225, 0],\n",
       " [2400, 2500, 20, 25, 135, 225, 0],\n",
       " [2500, 2700, 20, 25, 135, 225, 0],\n",
       " [1900, 2000, 25, 30, 135, 225, 0],\n",
       " [2000, 2100, 25, 30, 135, 225, 0],\n",
       " [2100, 2200, 25, 30, 135, 225, 0],\n",
       " [2200, 2300, 25, 30, 135, 225, 0],\n",
       " [2300, 2400, 25, 30, 135, 225, 0],\n",
       " [2400, 2500, 25, 30, 135, 225, 0],\n",
       " [2500, 2700, 25, 30, 135, 225, 0],\n",
       " [1900, 2000, 30, 40, 135, 225, 0],\n",
       " [2000, 2100, 30, 40, 135, 225, 0],\n",
       " [2100, 2200, 30, 40, 135, 225, 0],\n",
       " [2200, 2300, 30, 40, 135, 225, 0],\n",
       " [2300, 2400, 30, 40, 135, 225, 0],\n",
       " [2400, 2500, 30, 40, 135, 225, 0],\n",
       " [2500, 2700, 30, 40, 135, 225, 0],\n",
       " [1900, 2000, 40, 90, 135, 225, 0],\n",
       " [2000, 2100, 40, 90, 135, 225, 0],\n",
       " [2100, 2200, 40, 90, 135, 225, 0],\n",
       " [2200, 2300, 40, 90, 135, 225, 0],\n",
       " [2300, 2400, 40, 90, 135, 225, 0],\n",
       " [2400, 2500, 40, 90, 135, 225, 0],\n",
       " [2500, 2700, 40, 90, 135, 225, 0],\n",
       " [1900, 2000, 0, 5, 225, 315, 0],\n",
       " [2000, 2100, 0, 5, 225, 315, 0],\n",
       " [2100, 2200, 0, 5, 225, 315, 0],\n",
       " [2200, 2300, 0, 5, 225, 315, 0],\n",
       " [2300, 2400, 0, 5, 225, 315, 0],\n",
       " [2400, 2500, 0, 5, 225, 315, 0],\n",
       " [2500, 2700, 0, 5, 225, 315, 0],\n",
       " [1900, 2000, 5, 10, 225, 315, 0],\n",
       " [2000, 2100, 5, 10, 225, 315, 0],\n",
       " [2100, 2200, 5, 10, 225, 315, 0],\n",
       " [2200, 2300, 5, 10, 225, 315, 0],\n",
       " [2300, 2400, 5, 10, 225, 315, 0],\n",
       " [2400, 2500, 5, 10, 225, 315, 0],\n",
       " [2500, 2700, 5, 10, 225, 315, 0],\n",
       " [1900, 2000, 10, 15, 225, 315, 0],\n",
       " [2000, 2100, 10, 15, 225, 315, 0],\n",
       " [2100, 2200, 10, 15, 225, 315, 0],\n",
       " [2200, 2300, 10, 15, 225, 315, 0],\n",
       " [2300, 2400, 10, 15, 225, 315, 0],\n",
       " [2400, 2500, 10, 15, 225, 315, 0],\n",
       " [2500, 2700, 10, 15, 225, 315, 0],\n",
       " [1900, 2000, 15, 20, 225, 315, 0],\n",
       " [2000, 2100, 15, 20, 225, 315, 0],\n",
       " [2100, 2200, 15, 20, 225, 315, 0],\n",
       " [2200, 2300, 15, 20, 225, 315, 0],\n",
       " [2300, 2400, 15, 20, 225, 315, 0],\n",
       " [2400, 2500, 15, 20, 225, 315, 0],\n",
       " [2500, 2700, 15, 20, 225, 315, 0],\n",
       " [1900, 2000, 20, 25, 225, 315, 0],\n",
       " [2000, 2100, 20, 25, 225, 315, 0],\n",
       " [2100, 2200, 20, 25, 225, 315, 0],\n",
       " [2200, 2300, 20, 25, 225, 315, 0],\n",
       " [2300, 2400, 20, 25, 225, 315, 0],\n",
       " [2400, 2500, 20, 25, 225, 315, 0],\n",
       " [2500, 2700, 20, 25, 225, 315, 0],\n",
       " [1900, 2000, 25, 30, 225, 315, 0],\n",
       " [2000, 2100, 25, 30, 225, 315, 0],\n",
       " [2100, 2200, 25, 30, 225, 315, 0],\n",
       " [2200, 2300, 25, 30, 225, 315, 0],\n",
       " [2300, 2400, 25, 30, 225, 315, 0],\n",
       " [2400, 2500, 25, 30, 225, 315, 0],\n",
       " [2500, 2700, 25, 30, 225, 315, 0],\n",
       " [1900, 2000, 30, 40, 225, 315, 0],\n",
       " [2000, 2100, 30, 40, 225, 315, 0],\n",
       " [2100, 2200, 30, 40, 225, 315, 0],\n",
       " [2200, 2300, 30, 40, 225, 315, 0],\n",
       " [2300, 2400, 30, 40, 225, 315, 0],\n",
       " [2400, 2500, 30, 40, 225, 315, 0],\n",
       " [2500, 2700, 30, 40, 225, 315, 0],\n",
       " [1900, 2000, 40, 90, 225, 315, 0],\n",
       " [2000, 2100, 40, 90, 225, 315, 0],\n",
       " [2100, 2200, 40, 90, 225, 315, 0],\n",
       " [2200, 2300, 40, 90, 225, 315, 0],\n",
       " [2300, 2400, 40, 90, 225, 315, 0],\n",
       " [2400, 2500, 40, 90, 225, 315, 0],\n",
       " [2500, 2700, 40, 90, 225, 315, 0]]"
      ]
     },
     "execution_count": 3,
     "metadata": {},
     "output_type": "execute_result"
    }
   ],
   "source": [
    "conditions_matrix"
   ]
  },
  {
   "cell_type": "markdown",
   "metadata": {},
   "source": [
    "## Test rasters_treatment:\n",
    "  - Creation of all classified rasters\n",
    "  - Polygonize and stats"
   ]
  },
  {
   "cell_type": "code",
   "execution_count": 4,
   "metadata": {},
   "outputs": [],
   "source": [
    "# Load the required files\n",
    "input_path_dem  = '../outputs/rasters/cropped_dem.tif'\n",
    "input_slope_path = '../outputs/rasters/dem_slope.tif'\n",
    "input_aspect_path = '../outputs/rasters/dem_aspect.tif'\n",
    "snow_depth_path = '../inputs/snow_depth_data/grau_roig/sd_210322.geojson'\n",
    "cR_folder_path = '../outputs/rasters/classified_rasters/'\n",
    "cR_paths_list = '../outputs/statistics_data/21_03_22/cr_paths_list.npy'\n",
    "gdf_list_path = '../outputs/statistics_data/21_03_22/gdf_list.npy'\n",
    "stats_list_path = '../outputs/statistics_data/21_03_22/stats_list.npy'"
   ]
  },
  {
   "cell_type": "code",
   "execution_count": 5,
   "metadata": {},
   "outputs": [
    {
     "ename": "KeyboardInterrupt",
     "evalue": "",
     "output_type": "error",
     "traceback": [
      "\u001b[1;31m---------------------------------------------------------------------------\u001b[0m",
      "\u001b[1;31mKeyboardInterrupt\u001b[0m                         Traceback (most recent call last)",
      "\u001b[1;32mc:\\Users\\montse\\Desktop\\ARI-Git\\jupyterlab-data-science\\src\\kram_files\\detailed_dem_analysis\\test_functions.ipynb Celda 7\u001b[0m in \u001b[0;36m<cell line: 2>\u001b[1;34m()\u001b[0m\n\u001b[0;32m      <a href='vscode-notebook-cell:/c%3A/Users/montse/Desktop/ARI-Git/jupyterlab-data-science/src/kram_files/detailed_dem_analysis/test_functions.ipynb#W6sZmlsZQ%3D%3D?line=0'>1</a>\u001b[0m \u001b[39m#Classify rasters\u001b[39;00m\n\u001b[1;32m----> <a href='vscode-notebook-cell:/c%3A/Users/montse/Desktop/ARI-Git/jupyterlab-data-science/src/kram_files/detailed_dem_analysis/test_functions.ipynb#W6sZmlsZQ%3D%3D?line=1'>2</a>\u001b[0m rasters_treatment\u001b[39m.\u001b[39;49mcreate_all_classified_rasters(input_path_dem, input_slope_path, input_aspect_path, conditions_matrix[:\u001b[39m3\u001b[39;49m], list_output_paths[:\u001b[39m3\u001b[39;49m])\n\u001b[0;32m      <a href='vscode-notebook-cell:/c%3A/Users/montse/Desktop/ARI-Git/jupyterlab-data-science/src/kram_files/detailed_dem_analysis/test_functions.ipynb#W6sZmlsZQ%3D%3D?line=3'>4</a>\u001b[0m \u001b[39m#Collect the paths from a folder, and save it into a list (in disk)\u001b[39;00m\n\u001b[0;32m      <a href='vscode-notebook-cell:/c%3A/Users/montse/Desktop/ARI-Git/jupyterlab-data-science/src/kram_files/detailed_dem_analysis/test_functions.ipynb#W6sZmlsZQ%3D%3D?line=4'>5</a>\u001b[0m paths_collected \u001b[39m=\u001b[39m list_creator\u001b[39m.\u001b[39mcollect_paths(cR_folder_path)\n",
      "File \u001b[1;32mc:\\Users\\montse\\Desktop\\ARI-Git\\jupyterlab-data-science\\src\\kram_files\\detailed_dem_analysis\\rasters_treatment.py:31\u001b[0m, in \u001b[0;36mcreate_all_classified_rasters\u001b[1;34m(input_path_dem, input_slope_path, input_aspect_path, conditions, output_paths)\u001b[0m\n\u001b[0;32m     17\u001b[0m \u001b[39m\"\"\"\u001b[39;00m\n\u001b[0;32m     18\u001b[0m \u001b[39mCreates a series of classified rasters, depending on the input conditions given\u001b[39;00m\n\u001b[0;32m     19\u001b[0m \u001b[39mParameters:\u001b[39;00m\n\u001b[1;32m   (...)\u001b[0m\n\u001b[0;32m     27\u001b[0m \u001b[39m  len (integer): number of the total rasters (== len(conditions) or len(output_paths))\u001b[39;00m\n\u001b[0;32m     28\u001b[0m \u001b[39m\"\"\"\u001b[39;00m\n\u001b[0;32m     30\u001b[0m \u001b[39mfor\u001b[39;00m rast_cond \u001b[39min\u001b[39;00m \u001b[39menumerate\u001b[39m(conditions):\n\u001b[1;32m---> 31\u001b[0m     classify_rasters\u001b[39m.\u001b[39;49mclassify_raster(input_path_dem, input_slope_path, input_aspect_path,\n\u001b[0;32m     32\u001b[0m       conditions[rast_cond[\u001b[39m0\u001b[39;49m]], output_paths[rast_cond[\u001b[39m0\u001b[39;49m]])\n",
      "File \u001b[1;32mC:\\Users/montse/Desktop/ARI-Git/jupyterlab-data-science/src/kram_files/fundamental_functions\\classify_rasters.py:72\u001b[0m, in \u001b[0;36mclassify_raster\u001b[1;34m(dem_path, slope_path, aspect_path, input_conditions, output_path)\u001b[0m\n\u001b[0;32m     70\u001b[0m \u001b[39m#Classified_raster:\u001b[39;00m\n\u001b[0;32m     71\u001b[0m classified_raster \u001b[39m=\u001b[39m height_class \u001b[39m*\u001b[39m slope_class \u001b[39m*\u001b[39m aspect_class\n\u001b[1;32m---> 72\u001b[0m load_rast\u001b[39m.\u001b[39;49mwrite_raster_array(classified_raster, dem_path, output_path)\n",
      "File \u001b[1;32mC:\\Users/montse/Desktop/ARI-Git/jupyterlab-data-science/src/kram_files/dem_utils\\import_export_rasters_module.py:28\u001b[0m, in \u001b[0;36mwrite_raster_array\u001b[1;34m(raster_array, original_tif_path, output_path, nb_raster_band)\u001b[0m\n\u001b[0;32m     24\u001b[0m     dem_array \u001b[39m=\u001b[39m dem_file\u001b[39m.\u001b[39mGetRasterBand(nb_raster_band)\u001b[39m.\u001b[39mReadAsArray()\n\u001b[0;32m     25\u001b[0m     \u001b[39mreturn\u001b[39;00m dem_array\n\u001b[1;32m---> 28\u001b[0m \u001b[39mdef\u001b[39;00m \u001b[39mwrite_raster_array\u001b[39m (raster_array, original_tif_path, output_path, nb_raster_band\u001b[39m=\u001b[39m\u001b[39m1\u001b[39m):\n\u001b[0;32m     29\u001b[0m     \u001b[39m\"\"\"\u001b[39;00m\n\u001b[0;32m     30\u001b[0m \u001b[39m      Saves the numpy array into a GeoTiff file and keeps the metadata from the original Tiff\u001b[39;00m\n\u001b[0;32m     31\u001b[0m \u001b[39m      Parameters:\u001b[39;00m\n\u001b[1;32m   (...)\u001b[0m\n\u001b[0;32m     35\u001b[0m \u001b[39m        nb_raster_band (integer): raster band\u001b[39;00m\n\u001b[0;32m     36\u001b[0m \u001b[39m    \"\"\"\u001b[39;00m\n\u001b[0;32m     37\u001b[0m     original_tif \u001b[39m=\u001b[39m gdal\u001b[39m.\u001b[39mOpen(original_tif_path)\n",
      "\u001b[1;31mKeyboardInterrupt\u001b[0m: "
     ]
    }
   ],
   "source": [
    "#Classify rasters\n",
    "rasters_treatment.create_all_classified_rasters(input_path_dem, input_slope_path, input_aspect_path, conditions_matrix[:3], list_output_paths[:3])\n",
    "\n",
    "#Collect the paths from a folder, and save it into a list (in disk)\n",
    "paths_collected = list_creator.collect_paths(cR_folder_path)\n",
    "np.save(cR_paths_list, paths_collected)"
   ]
  },
  {
   "cell_type": "code",
   "execution_count": null,
   "metadata": {},
   "outputs": [],
   "source": [
    "#Polygonize and extract statistics (only a small portion due to the memory cost)\n",
    "statistics = rasters_treatment.polygonize_and_stats(paths_collected[147:150], snow_depth_path) "
   ]
  },
  {
   "cell_type": "code",
   "execution_count": null,
   "metadata": {},
   "outputs": [
    {
     "name": "stderr",
     "output_type": "stream",
     "text": [
      "Exception ignored in: <function BaseGeometry.__del__ at 0x0000013F2F417D00>\n",
      "Traceback (most recent call last):\n",
      "  File \"C:\\Users\\montse\\AppData\\Local\\Packages\\PythonSoftwareFoundation.Python.3.10_qbz5n2kfra8p0\\LocalCache\\local-packages\\Python310\\site-packages\\shapely\\geometry\\base.py\", line 209, in __del__\n",
      "    self._empty(val=None)\n",
      "  File \"C:\\Users\\montse\\AppData\\Local\\Packages\\PythonSoftwareFoundation.Python.3.10_qbz5n2kfra8p0\\LocalCache\\local-packages\\Python310\\site-packages\\shapely\\geometry\\base.py\", line 194, in _empty\n",
      "    self._lgeos.GEOSGeom_destroy(self.__geom__)\n",
      "KeyboardInterrupt: \n",
      "C:\\Users\\montse\\AppData\\Local\\Packages\\PythonSoftwareFoundation.Python.3.10_qbz5n2kfra8p0\\LocalCache\\local-packages\\Python310\\site-packages\\numpy\\lib\\npyio.py:518: VisibleDeprecationWarning: Creating an ndarray from ragged nested sequences (which is a list-or-tuple of lists-or-tuples-or ndarrays with different lengths or shapes) is deprecated. If you meant to do this, you must specify 'dtype=object' when creating the ndarray.\n",
      "  arr = np.asanyarray(arr)\n"
     ]
    }
   ],
   "source": [
    "# Only get statistics\n",
    "stats_list = rasters_treatment.get_statistics(gdf_list_path)\n",
    "np.save(stats_list_path, stats_list) #or statistics (depending)"
   ]
  },
  {
   "cell_type": "markdown",
   "metadata": {},
   "source": [
    "## Analysis of data\n",
    "\n",
    "We receive a list containing multiple lists with all the parameters for each rasters conditions as: \n",
    "  - [min, max, mean, weighted_mean, median, variance, standard_dev, skewness, ranges]"
   ]
  },
  {
   "cell_type": "code",
   "execution_count": 8,
   "metadata": {},
   "outputs": [
    {
     "name": "stderr",
     "output_type": "stream",
     "text": [
      "c:\\Users\\montse\\Desktop\\ARI-Git\\jupyterlab-data-science\\src\\kram_files\\detailed_dem_analysis\\rasters_treatment.py:128: SettingWithCopyWarning: \n",
      "A value is trying to be set on a copy of a slice from a DataFrame\n",
      "\n",
      "See the caveats in the documentation: https://pandas.pydata.org/pandas-docs/stable/user_guide/indexing.html#returning-a-view-versus-a-copy\n",
      "  stats_df['Aspect'].loc[stats_df['index'].str.contains(aspect_str_list[aspect[0]])] = aspect_str_list[aspect[0]]\n",
      "c:\\Users\\montse\\Desktop\\ARI-Git\\jupyterlab-data-science\\src\\kram_files\\detailed_dem_analysis\\rasters_treatment.py:131: SettingWithCopyWarning: \n",
      "A value is trying to be set on a copy of a slice from a DataFrame\n",
      "\n",
      "See the caveats in the documentation: https://pandas.pydata.org/pandas-docs/stable/user_guide/indexing.html#returning-a-view-versus-a-copy\n",
      "  stats_df['Height'].loc[stats_df['index'].str.contains(height_str_list[height[0]])] = height_str_list[height[0]]\n",
      "c:\\Users\\montse\\Desktop\\ARI-Git\\jupyterlab-data-science\\src\\kram_files\\detailed_dem_analysis\\rasters_treatment.py:134: SettingWithCopyWarning: \n",
      "A value is trying to be set on a copy of a slice from a DataFrame\n",
      "\n",
      "See the caveats in the documentation: https://pandas.pydata.org/pandas-docs/stable/user_guide/indexing.html#returning-a-view-versus-a-copy\n",
      "  stats_df['Slope'].loc[stats_df['index'].str.contains(slope_str_list[slope[0]])] = slope_str_list[slope[0]]\n"
     ]
    }
   ],
   "source": [
    "# We create a dataframe summarizing the statistical results\n",
    "gdf_stats = rasters_treatment.create_gdf_stats(stats_list_path, cR_paths_list)"
   ]
  },
  {
   "cell_type": "code",
   "execution_count": 9,
   "metadata": {},
   "outputs": [
    {
     "data": {
      "text/html": [
       "<div>\n",
       "<style scoped>\n",
       "    .dataframe tbody tr th:only-of-type {\n",
       "        vertical-align: middle;\n",
       "    }\n",
       "\n",
       "    .dataframe tbody tr th {\n",
       "        vertical-align: top;\n",
       "    }\n",
       "\n",
       "    .dataframe thead th {\n",
       "        text-align: right;\n",
       "    }\n",
       "</style>\n",
       "<table border=\"1\" class=\"dataframe\">\n",
       "  <thead>\n",
       "    <tr style=\"text-align: right;\">\n",
       "      <th></th>\n",
       "      <th>Min</th>\n",
       "      <th>Max</th>\n",
       "      <th>Mean</th>\n",
       "      <th>Weighted_Mean</th>\n",
       "      <th>Median</th>\n",
       "      <th>Variance</th>\n",
       "      <th>Standard_Dev</th>\n",
       "      <th>Skeweness</th>\n",
       "      <th>Ranges</th>\n",
       "      <th>index</th>\n",
       "      <th>Aspect</th>\n",
       "      <th>Height</th>\n",
       "      <th>Slope</th>\n",
       "    </tr>\n",
       "  </thead>\n",
       "  <tbody>\n",
       "    <tr>\n",
       "      <th>0</th>\n",
       "      <td>0.039665</td>\n",
       "      <td>2.155495</td>\n",
       "      <td>1.032585</td>\n",
       "      <td>1.032585</td>\n",
       "      <td>0.979231</td>\n",
       "      <td>0.161731</td>\n",
       "      <td>0.402158</td>\n",
       "      <td>0.102673</td>\n",
       "      <td>2.115830</td>\n",
       "      <td>../outputs/rasters/classified_rasters/2100_220...</td>\n",
       "      <td>east</td>\n",
       "      <td>2100_2200</td>\n",
       "      <td>0_5</td>\n",
       "    </tr>\n",
       "    <tr>\n",
       "      <th>1</th>\n",
       "      <td>0.039665</td>\n",
       "      <td>3.487886</td>\n",
       "      <td>0.846425</td>\n",
       "      <td>0.846425</td>\n",
       "      <td>0.790398</td>\n",
       "      <td>0.136438</td>\n",
       "      <td>0.369375</td>\n",
       "      <td>0.899323</td>\n",
       "      <td>3.448221</td>\n",
       "      <td>../outputs/rasters/classified_rasters/2100_220...</td>\n",
       "      <td>north</td>\n",
       "      <td>2100_2200</td>\n",
       "      <td>0_5</td>\n",
       "    </tr>\n",
       "    <tr>\n",
       "      <th>2</th>\n",
       "      <td>0.279265</td>\n",
       "      <td>1.986597</td>\n",
       "      <td>0.918957</td>\n",
       "      <td>0.918957</td>\n",
       "      <td>0.836712</td>\n",
       "      <td>0.144891</td>\n",
       "      <td>0.380646</td>\n",
       "      <td>0.552691</td>\n",
       "      <td>1.707331</td>\n",
       "      <td>../outputs/rasters/classified_rasters/2100_220...</td>\n",
       "      <td>south</td>\n",
       "      <td>2100_2200</td>\n",
       "      <td>0_5</td>\n",
       "    </tr>\n",
       "    <tr>\n",
       "      <th>3</th>\n",
       "      <td>0.082090</td>\n",
       "      <td>3.487886</td>\n",
       "      <td>0.799694</td>\n",
       "      <td>0.799694</td>\n",
       "      <td>0.727903</td>\n",
       "      <td>0.114212</td>\n",
       "      <td>0.337952</td>\n",
       "      <td>1.727015</td>\n",
       "      <td>3.405796</td>\n",
       "      <td>../outputs/rasters/classified_rasters/2100_220...</td>\n",
       "      <td>west</td>\n",
       "      <td>2100_2200</td>\n",
       "      <td>0_5</td>\n",
       "    </tr>\n",
       "    <tr>\n",
       "      <th>4</th>\n",
       "      <td>0.001553</td>\n",
       "      <td>3.569141</td>\n",
       "      <td>1.063409</td>\n",
       "      <td>1.063409</td>\n",
       "      <td>1.026491</td>\n",
       "      <td>0.247187</td>\n",
       "      <td>0.497179</td>\n",
       "      <td>0.789568</td>\n",
       "      <td>3.567588</td>\n",
       "      <td>../outputs/rasters/classified_rasters/2100_220...</td>\n",
       "      <td>north</td>\n",
       "      <td>2100_2200</td>\n",
       "      <td>10_15</td>\n",
       "    </tr>\n",
       "    <tr>\n",
       "      <th>...</th>\n",
       "      <td>...</td>\n",
       "      <td>...</td>\n",
       "      <td>...</td>\n",
       "      <td>...</td>\n",
       "      <td>...</td>\n",
       "      <td>...</td>\n",
       "      <td>...</td>\n",
       "      <td>...</td>\n",
       "      <td>...</td>\n",
       "      <td>...</td>\n",
       "      <td>...</td>\n",
       "      <td>...</td>\n",
       "      <td>...</td>\n",
       "    </tr>\n",
       "    <tr>\n",
       "      <th>115</th>\n",
       "      <td>0.364793</td>\n",
       "      <td>3.876043</td>\n",
       "      <td>1.379708</td>\n",
       "      <td>1.379708</td>\n",
       "      <td>1.429182</td>\n",
       "      <td>0.242163</td>\n",
       "      <td>0.492101</td>\n",
       "      <td>0.990537</td>\n",
       "      <td>3.511250</td>\n",
       "      <td>../outputs/rasters/classified_rasters/2500_270...</td>\n",
       "      <td>north</td>\n",
       "      <td>2500_2700</td>\n",
       "      <td>40_90</td>\n",
       "    </tr>\n",
       "    <tr>\n",
       "      <th>116</th>\n",
       "      <td>0.364793</td>\n",
       "      <td>2.568521</td>\n",
       "      <td>1.199144</td>\n",
       "      <td>1.199144</td>\n",
       "      <td>1.118736</td>\n",
       "      <td>0.174701</td>\n",
       "      <td>0.417973</td>\n",
       "      <td>0.453928</td>\n",
       "      <td>2.203728</td>\n",
       "      <td>../outputs/rasters/classified_rasters/2500_270...</td>\n",
       "      <td>south</td>\n",
       "      <td>2500_2700</td>\n",
       "      <td>40_90</td>\n",
       "    </tr>\n",
       "    <tr>\n",
       "      <th>117</th>\n",
       "      <td>0.260347</td>\n",
       "      <td>7.483549</td>\n",
       "      <td>1.551819</td>\n",
       "      <td>1.551819</td>\n",
       "      <td>1.392381</td>\n",
       "      <td>0.553561</td>\n",
       "      <td>0.744017</td>\n",
       "      <td>2.189640</td>\n",
       "      <td>7.223202</td>\n",
       "      <td>../outputs/rasters/classified_rasters/2500_270...</td>\n",
       "      <td>north</td>\n",
       "      <td>2500_2700</td>\n",
       "      <td>5_10</td>\n",
       "    </tr>\n",
       "    <tr>\n",
       "      <th>118</th>\n",
       "      <td>0.399222</td>\n",
       "      <td>5.968273</td>\n",
       "      <td>1.297588</td>\n",
       "      <td>1.297588</td>\n",
       "      <td>1.162488</td>\n",
       "      <td>0.385732</td>\n",
       "      <td>0.621073</td>\n",
       "      <td>3.117039</td>\n",
       "      <td>5.569051</td>\n",
       "      <td>../outputs/rasters/classified_rasters/2500_270...</td>\n",
       "      <td>south</td>\n",
       "      <td>2500_2700</td>\n",
       "      <td>5_10</td>\n",
       "    </tr>\n",
       "    <tr>\n",
       "      <th>119</th>\n",
       "      <td>0.260347</td>\n",
       "      <td>7.483549</td>\n",
       "      <td>1.376933</td>\n",
       "      <td>1.376933</td>\n",
       "      <td>1.177509</td>\n",
       "      <td>0.713715</td>\n",
       "      <td>0.844817</td>\n",
       "      <td>3.409552</td>\n",
       "      <td>7.223202</td>\n",
       "      <td>../outputs/rasters/classified_rasters/2500_270...</td>\n",
       "      <td>west</td>\n",
       "      <td>2500_2700</td>\n",
       "      <td>5_10</td>\n",
       "    </tr>\n",
       "  </tbody>\n",
       "</table>\n",
       "<p>120 rows × 13 columns</p>\n",
       "</div>"
      ],
      "text/plain": [
       "          Min       Max      Mean  Weighted_Mean    Median  Variance  \\\n",
       "0    0.039665  2.155495  1.032585       1.032585  0.979231  0.161731   \n",
       "1    0.039665  3.487886  0.846425       0.846425  0.790398  0.136438   \n",
       "2    0.279265  1.986597  0.918957       0.918957  0.836712  0.144891   \n",
       "3    0.082090  3.487886  0.799694       0.799694  0.727903  0.114212   \n",
       "4    0.001553  3.569141  1.063409       1.063409  1.026491  0.247187   \n",
       "..        ...       ...       ...            ...       ...       ...   \n",
       "115  0.364793  3.876043  1.379708       1.379708  1.429182  0.242163   \n",
       "116  0.364793  2.568521  1.199144       1.199144  1.118736  0.174701   \n",
       "117  0.260347  7.483549  1.551819       1.551819  1.392381  0.553561   \n",
       "118  0.399222  5.968273  1.297588       1.297588  1.162488  0.385732   \n",
       "119  0.260347  7.483549  1.376933       1.376933  1.177509  0.713715   \n",
       "\n",
       "     Standard_Dev  Skeweness    Ranges  \\\n",
       "0        0.402158   0.102673  2.115830   \n",
       "1        0.369375   0.899323  3.448221   \n",
       "2        0.380646   0.552691  1.707331   \n",
       "3        0.337952   1.727015  3.405796   \n",
       "4        0.497179   0.789568  3.567588   \n",
       "..            ...        ...       ...   \n",
       "115      0.492101   0.990537  3.511250   \n",
       "116      0.417973   0.453928  2.203728   \n",
       "117      0.744017   2.189640  7.223202   \n",
       "118      0.621073   3.117039  5.569051   \n",
       "119      0.844817   3.409552  7.223202   \n",
       "\n",
       "                                                 index Aspect     Height  \\\n",
       "0    ../outputs/rasters/classified_rasters/2100_220...   east  2100_2200   \n",
       "1    ../outputs/rasters/classified_rasters/2100_220...  north  2100_2200   \n",
       "2    ../outputs/rasters/classified_rasters/2100_220...  south  2100_2200   \n",
       "3    ../outputs/rasters/classified_rasters/2100_220...   west  2100_2200   \n",
       "4    ../outputs/rasters/classified_rasters/2100_220...  north  2100_2200   \n",
       "..                                                 ...    ...        ...   \n",
       "115  ../outputs/rasters/classified_rasters/2500_270...  north  2500_2700   \n",
       "116  ../outputs/rasters/classified_rasters/2500_270...  south  2500_2700   \n",
       "117  ../outputs/rasters/classified_rasters/2500_270...  north  2500_2700   \n",
       "118  ../outputs/rasters/classified_rasters/2500_270...  south  2500_2700   \n",
       "119  ../outputs/rasters/classified_rasters/2500_270...   west  2500_2700   \n",
       "\n",
       "     Slope  \n",
       "0      0_5  \n",
       "1      0_5  \n",
       "2      0_5  \n",
       "3      0_5  \n",
       "4    10_15  \n",
       "..     ...  \n",
       "115  40_90  \n",
       "116  40_90  \n",
       "117   5_10  \n",
       "118   5_10  \n",
       "119   5_10  \n",
       "\n",
       "[120 rows x 13 columns]"
      ]
     },
     "execution_count": 9,
     "metadata": {},
     "output_type": "execute_result"
    }
   ],
   "source": [
    "gdf_stats_clean = gdf_stats.dropna(how='any').reset_index()\n",
    "gdf_stats_clean = gdf_stats_clean.drop('level_0', axis=1)\n",
    "gdf_stats_clean"
   ]
  },
  {
   "cell_type": "code",
   "execution_count": 12,
   "metadata": {},
   "outputs": [
    {
     "data": {
      "text/plain": [
       "7.911337605705739"
      ]
     },
     "execution_count": 12,
     "metadata": {},
     "output_type": "execute_result"
    }
   ],
   "source": [
    "max_list = gdf_stats_clean['Max'].tolist()\n",
    "np.max(max_list)"
   ]
  },
  {
   "cell_type": "markdown",
   "metadata": {},
   "source": [
    "# Plot the statistics"
   ]
  },
  {
   "cell_type": "code",
   "execution_count": 13,
   "metadata": {},
   "outputs": [],
   "source": [
    "import plotly.subplots as ps\n",
    "import plotly.graph_objects as go"
   ]
  },
  {
   "cell_type": "markdown",
   "metadata": {},
   "source": [
    "###  1) Preparation of the data"
   ]
  },
  {
   "cell_type": "code",
   "execution_count": 14,
   "metadata": {},
   "outputs": [
    {
     "name": "stderr",
     "output_type": "stream",
     "text": [
      "C:\\Users\\montse\\AppData\\Local\\Temp\\ipykernel_14692\\1740468484.py:7: SettingWithCopyWarning: \n",
      "A value is trying to be set on a copy of a slice from a DataFrame\n",
      "\n",
      "See the caveats in the documentation: https://pandas.pydata.org/pandas-docs/stable/user_guide/indexing.html#returning-a-view-versus-a-copy\n",
      "  sd_210322_north.dropna(how='any',subset=['Min'], inplace=True); sd_210322_north.reset_index(drop=True, inplace=True)\n",
      "C:\\Users\\montse\\AppData\\Local\\Temp\\ipykernel_14692\\1740468484.py:8: SettingWithCopyWarning: \n",
      "A value is trying to be set on a copy of a slice from a DataFrame\n",
      "\n",
      "See the caveats in the documentation: https://pandas.pydata.org/pandas-docs/stable/user_guide/indexing.html#returning-a-view-versus-a-copy\n",
      "  sd_210322_south.dropna(how='any',subset=['Min'], inplace=True); sd_210322_south.reset_index(drop=True, inplace=True)\n",
      "C:\\Users\\montse\\AppData\\Local\\Temp\\ipykernel_14692\\1740468484.py:9: SettingWithCopyWarning: \n",
      "A value is trying to be set on a copy of a slice from a DataFrame\n",
      "\n",
      "See the caveats in the documentation: https://pandas.pydata.org/pandas-docs/stable/user_guide/indexing.html#returning-a-view-versus-a-copy\n",
      "  sd_210322_east.dropna(how='any',subset=['Min'], inplace=True); sd_210322_east.reset_index(drop=True, inplace=True)\n",
      "C:\\Users\\montse\\AppData\\Local\\Temp\\ipykernel_14692\\1740468484.py:10: SettingWithCopyWarning: \n",
      "A value is trying to be set on a copy of a slice from a DataFrame\n",
      "\n",
      "See the caveats in the documentation: https://pandas.pydata.org/pandas-docs/stable/user_guide/indexing.html#returning-a-view-versus-a-copy\n",
      "  sd_210322_west.dropna(how='any',subset=['Min'], inplace=True); sd_210322_west.reset_index(drop=True, inplace=True)\n"
     ]
    }
   ],
   "source": [
    "#We define four df containing the four aspect types\n",
    "sd_210322_north = gdf_stats.loc[gdf_stats['Aspect'] == 'north']\n",
    "sd_210322_south = gdf_stats.loc[gdf_stats['Aspect'] == 'south']\n",
    "sd_210322_east = gdf_stats.loc[gdf_stats['Aspect'] == 'east']\n",
    "sd_210322_west = gdf_stats.loc[gdf_stats['Aspect'] == 'west']\n",
    "\n",
    "sd_210322_north.dropna(how='any',subset=['Min'], inplace=True); sd_210322_north.reset_index(drop=True, inplace=True)\n",
    "sd_210322_south.dropna(how='any',subset=['Min'], inplace=True); sd_210322_south.reset_index(drop=True, inplace=True)\n",
    "sd_210322_east.dropna(how='any',subset=['Min'], inplace=True); sd_210322_east.reset_index(drop=True, inplace=True)\n",
    "sd_210322_west.dropna(how='any',subset=['Min'], inplace=True); sd_210322_west.reset_index(drop=True, inplace=True)"
   ]
  },
  {
   "cell_type": "markdown",
   "metadata": {},
   "source": [
    "###  2) Plotting subplots depending on more than one parameter in the x axis"
   ]
  },
  {
   "cell_type": "code",
   "execution_count": 15,
   "metadata": {},
   "outputs": [],
   "source": [
    "sd_210322_north_groupby = sd_210322_north.groupby(['Height', 'Slope'], as_index=False).agg('mean')\n",
    "sd_210322_south_groupby = sd_210322_south.groupby(['Height', 'Slope'], as_index=False).agg('mean')\n",
    "sd_210322_east_groupby = sd_210322_east.groupby(['Height', 'Slope'], as_index=False).agg('mean')\n",
    "sd_210322_west_groupby = sd_210322_west.groupby(['Height', 'Slope'], as_index=False).agg('mean')"
   ]
  },
  {
   "cell_type": "code",
   "execution_count": 16,
   "metadata": {},
   "outputs": [
    {
     "data": {
      "application/vnd.plotly.v1+json": {
       "config": {
        "plotlyServerURL": "https://plot.ly"
       },
       "data": [
        {
         "legendgroup": "Slope",
         "name": "0_5 deg",
         "type": "bar",
         "x": [
          "2100_2200",
          "2200_2300",
          "2300_2400",
          "2400_2500",
          "2500_2700"
         ],
         "xaxis": "x",
         "y": [
          0.039665051725478406,
          0.08424532981916855,
          0.14972242891963106,
          0.6899456424289383,
          0.3330831588377805
         ],
         "yaxis": "y"
        },
        {
         "legendgroup": "Slope",
         "name": "10_15 deg",
         "type": "bar",
         "x": [
          "2100_2200",
          "2200_2300",
          "2300_2400",
          "2400_2500",
          "2500_2700"
         ],
         "xaxis": "x",
         "y": [
          0.0015534927338194393,
          0.0005613486437141546,
          0.004986487012502039,
          0.044182349057791725,
          0.23165369606476816
         ],
         "yaxis": "y"
        },
        {
         "legendgroup": "Slope",
         "name": "15_20 deg",
         "type": "bar",
         "x": [
          "2100_2200",
          "2200_2300",
          "2300_2400",
          "2400_2500",
          "2500_2700"
         ],
         "xaxis": "x",
         "y": [
          0.004669764587561076,
          0.0001745392564771464,
          0.020931663229475816,
          0.0025070353294722736,
          0.25679218341520027
         ],
         "yaxis": "y"
        },
        {
         "legendgroup": "Slope",
         "name": "20_25 deg",
         "type": "bar",
         "x": [
          "2100_2200",
          "2200_2300",
          "2300_2400",
          "2400_2500",
          "2500_2700"
         ],
         "xaxis": "x",
         "y": [
          0.0007360337276622886,
          0.0017277112870033307,
          0.06035790396435914,
          0.0032582800658929045,
          0.21847891593233726
         ],
         "yaxis": "y"
        },
        {
         "legendgroup": "Slope",
         "name": "25_30 deg",
         "type": "bar",
         "x": [
          "2100_2200",
          "2200_2300",
          "2300_2400",
          "2400_2500",
          "2500_2700"
         ],
         "xaxis": "x",
         "y": [
          0.01608499385702089,
          0.006691061991659808,
          0.004593845539147878,
          0.00027752131018132786,
          0.22115355737196296
         ],
         "yaxis": "y"
        },
        {
         "legendgroup": "Slope",
         "name": "30_40 deg",
         "type": "bar",
         "x": [
          "2100_2200",
          "2200_2300",
          "2300_2400",
          "2400_2500",
          "2500_2700"
         ],
         "xaxis": "x",
         "y": [
          0.004856859333358443,
          0.013036220761478035,
          0.013434274491373799,
          0.00968838155586127,
          0.18707338431113385
         ],
         "yaxis": "y"
        },
        {
         "legendgroup": "Slope",
         "name": "40_90 deg",
         "type": "bar",
         "x": [
          "2100_2200",
          "2200_2300",
          "2300_2400",
          "2400_2500",
          "2500_2700"
         ],
         "xaxis": "x",
         "y": [
          0.011783835201185866,
          0.006080928029859933,
          0.0003910780628757493,
          0.16656024818530568,
          0.36479297011783274
         ],
         "yaxis": "y"
        },
        {
         "legendgroup": "Slope",
         "name": "5_10 deg",
         "type": "bar",
         "x": [
          "2100_2200",
          "2200_2300",
          "2300_2400",
          "2400_2500",
          "2500_2700"
         ],
         "xaxis": "x",
         "y": [
          0.002346073712942598,
          0.0002736837759584887,
          0.048757888669115346,
          0.0516794587779259,
          0.2603467320632262
         ],
         "yaxis": "y"
        },
        {
         "showlegend": false,
         "type": "bar",
         "x": [
          "2100_2200",
          "2200_2300",
          "2300_2400",
          "2400_2500",
          "2500_2700"
         ],
         "xaxis": "x2",
         "y": [
          0.27926527713179894,
          0.6457188501108249,
          0.3765878901403994,
          0.8819419387718881,
          0.7448060395995526
         ],
         "yaxis": "y2"
        },
        {
         "showlegend": false,
         "type": "bar",
         "x": [
          "2100_2200",
          "2200_2300",
          "2300_2400",
          "2400_2500",
          "2500_2700"
         ],
         "xaxis": "x2",
         "y": [
          0.18974613797081474,
          0.08374629806894518,
          0.1754826077249163,
          0.23466667340562708,
          0.428989603237369
         ],
         "yaxis": "y2"
        },
        {
         "showlegend": false,
         "type": "bar",
         "x": [
          "2100_2200",
          "2200_2300",
          "2300_2400",
          "2400_2500",
          "2500_2700"
         ],
         "xaxis": "x2",
         "y": [
          0.02517822992103902,
          0.29578268497198223,
          0.33441572522042406,
          0.056472313585345546,
          0.40039061501738615
         ],
         "yaxis": "y2"
        },
        {
         "showlegend": false,
         "type": "bar",
         "x": [
          "2100_2200",
          "2200_2300",
          "2300_2400",
          "2400_2500",
          "2500_2700"
         ],
         "xaxis": "x2",
         "y": [
          0.32299611266989814,
          0.7294649772743469,
          0.343298484890056,
          0.0032582800658929045,
          0.7571415835091102
         ],
         "yaxis": "y2"
        },
        {
         "showlegend": false,
         "type": "bar",
         "x": [
          "2100_2200",
          "2200_2300",
          "2300_2400",
          "2400_2500",
          "2500_2700"
         ],
         "xaxis": "x2",
         "y": [
          0.241402187946278,
          0.5919388401148353,
          0.46794554890811924,
          0.0203498538853637,
          0.7192223137567453
         ],
         "yaxis": "y2"
        },
        {
         "showlegend": false,
         "type": "bar",
         "x": [
          "2100_2200",
          "2200_2300",
          "2300_2400",
          "2400_2500",
          "2500_2700"
         ],
         "xaxis": "x2",
         "y": [
          0.6649195207437515,
          1.0030403070700231,
          0.39816521013290185,
          0.024971157860363746,
          0.5764948096511944
         ],
         "yaxis": "y2"
        },
        {
         "showlegend": false,
         "type": "bar",
         "x": [
          "2100_2200",
          "2200_2300",
          "2300_2400",
          "2400_2500",
          "2500_2700"
         ],
         "xaxis": "x2",
         "y": [
          0.2621996223156202,
          0.24199254206405385,
          0.1872368782301237,
          0.34147760019459383,
          0.36479297011783274
         ],
         "yaxis": "y2"
        },
        {
         "showlegend": false,
         "type": "bar",
         "x": [
          "2100_2200",
          "2200_2300",
          "2300_2400",
          "2400_2500",
          "2500_2700"
         ],
         "xaxis": "x2",
         "y": [
          0.10777446450993011,
          0.012749574384088191,
          0.15947650699899896,
          0.1396846450738849,
          0.3992221247667658
         ],
         "yaxis": "y2"
        },
        {
         "showlegend": false,
         "type": "bar",
         "x": [
          "2100_2200",
          "2200_2300",
          "2300_2400",
          "2400_2500",
          "2500_2700"
         ],
         "xaxis": "x3",
         "y": [
          0.039665051725478406,
          0.35697872407263276,
          0.38918332333514627,
          1.3299338154151883,
          0.860392919183596
         ],
         "yaxis": "y3"
        },
        {
         "showlegend": false,
         "type": "bar",
         "x": [
          "2500_2700"
         ],
         "xaxis": "x3",
         "y": [
          0.4943050051224418
         ],
         "yaxis": "y3"
        },
        {
         "showlegend": false,
         "type": "bar",
         "x": [
          "2100_2200",
          "2200_2300",
          "2400_2500",
          "2500_2700"
         ],
         "xaxis": "x3",
         "y": [
          0.004856859333358443,
          0.4273072666437656,
          0.09576629525781755,
          1.7445821618393893
         ],
         "yaxis": "y3"
        },
        {
         "showlegend": false,
         "type": "bar",
         "x": [
          "2300_2400",
          "2400_2500",
          "2500_2700"
         ],
         "xaxis": "x3",
         "y": [
          0.004612773659573577,
          0.7403493248866653,
          0.8179720265420656
         ],
         "yaxis": "y3"
        },
        {
         "showlegend": false,
         "type": "bar",
         "x": [
          "2100_2200"
         ],
         "xaxis": "x3",
         "y": [
          0.19716572242668917
         ],
         "yaxis": "y3"
        },
        {
         "showlegend": false,
         "type": "bar",
         "x": [
          "2100_2200",
          "2200_2300",
          "2300_2400",
          "2400_2500",
          "2500_2700"
         ],
         "xaxis": "x4",
         "y": [
          0.08209026892518523,
          0.08424532981916855,
          0.14972242891963106,
          0.6899456424289383,
          0.3330831588377805
         ],
         "yaxis": "y4"
        },
        {
         "showlegend": false,
         "type": "bar",
         "x": [
          "2100_2200",
          "2200_2300",
          "2300_2400",
          "2400_2500",
          "2500_2700"
         ],
         "xaxis": "x4",
         "y": [
          0.0015534927338194393,
          0.0005613486437141546,
          0.004986487012502039,
          0.04863032811817902,
          0.23165369606476816
         ],
         "yaxis": "y4"
        },
        {
         "showlegend": false,
         "type": "bar",
         "x": [
          "2100_2200",
          "2200_2300",
          "2300_2400",
          "2400_2500",
          "2500_2700"
         ],
         "xaxis": "x4",
         "y": [
          0.012225005388700083,
          0.0001745392564771464,
          0.020931663229475816,
          0.03654342916479436,
          0.25679218341520027
         ],
         "yaxis": "y4"
        },
        {
         "showlegend": false,
         "type": "bar",
         "x": [
          "2100_2200",
          "2200_2300",
          "2300_2400",
          "2400_2500",
          "2500_2700"
         ],
         "xaxis": "x4",
         "y": [
          0.0007360337276622886,
          0.0017277112870033307,
          0.06348423298595662,
          0.060354313745392574,
          0.4225541877976866
         ],
         "yaxis": "y4"
        },
        {
         "showlegend": false,
         "type": "bar",
         "x": [
          "2100_2200",
          "2200_2300"
         ],
         "xaxis": "x4",
         "y": [
          0.01608499385702089,
          0.00838484353334934
         ],
         "yaxis": "y4"
        },
        {
         "showlegend": false,
         "type": "bar",
         "x": [
          "2100_2200",
          "2200_2300",
          "2300_2400",
          "2400_2500",
          "2500_2700"
         ],
         "xaxis": "x4",
         "y": [
          0.002346073712942598,
          0.0002736837759584887,
          0.151724998419013,
          0.0516794587779259,
          0.2603467320632262
         ],
         "yaxis": "y4"
        }
       ],
       "layout": {
        "annotations": [
         {
          "font": {
           "size": 16
          },
          "showarrow": false,
          "text": "North Face",
          "x": 0.10625,
          "xanchor": "center",
          "xref": "paper",
          "y": 1,
          "yanchor": "bottom",
          "yref": "paper"
         },
         {
          "font": {
           "size": 16
          },
          "showarrow": false,
          "text": "South Face",
          "x": 0.36875,
          "xanchor": "center",
          "xref": "paper",
          "y": 1,
          "yanchor": "bottom",
          "yref": "paper"
         },
         {
          "font": {
           "size": 16
          },
          "showarrow": false,
          "text": "East Face",
          "x": 0.6312500000000001,
          "xanchor": "center",
          "xref": "paper",
          "y": 1,
          "yanchor": "bottom",
          "yref": "paper"
         },
         {
          "font": {
           "size": 16
          },
          "showarrow": false,
          "text": "West Face",
          "x": 0.89375,
          "xanchor": "center",
          "xref": "paper",
          "y": 1,
          "yanchor": "bottom",
          "yref": "paper"
         }
        ],
        "height": 700,
        "legend": {
         "title": {
          "text": "Slopes:"
         }
        },
        "template": {
         "data": {
          "bar": [
           {
            "error_x": {
             "color": "#2a3f5f"
            },
            "error_y": {
             "color": "#2a3f5f"
            },
            "marker": {
             "line": {
              "color": "#E5ECF6",
              "width": 0.5
             },
             "pattern": {
              "fillmode": "overlay",
              "size": 10,
              "solidity": 0.2
             }
            },
            "type": "bar"
           }
          ],
          "barpolar": [
           {
            "marker": {
             "line": {
              "color": "#E5ECF6",
              "width": 0.5
             },
             "pattern": {
              "fillmode": "overlay",
              "size": 10,
              "solidity": 0.2
             }
            },
            "type": "barpolar"
           }
          ],
          "carpet": [
           {
            "aaxis": {
             "endlinecolor": "#2a3f5f",
             "gridcolor": "white",
             "linecolor": "white",
             "minorgridcolor": "white",
             "startlinecolor": "#2a3f5f"
            },
            "baxis": {
             "endlinecolor": "#2a3f5f",
             "gridcolor": "white",
             "linecolor": "white",
             "minorgridcolor": "white",
             "startlinecolor": "#2a3f5f"
            },
            "type": "carpet"
           }
          ],
          "choropleth": [
           {
            "colorbar": {
             "outlinewidth": 0,
             "ticks": ""
            },
            "type": "choropleth"
           }
          ],
          "contour": [
           {
            "colorbar": {
             "outlinewidth": 0,
             "ticks": ""
            },
            "colorscale": [
             [
              0,
              "#0d0887"
             ],
             [
              0.1111111111111111,
              "#46039f"
             ],
             [
              0.2222222222222222,
              "#7201a8"
             ],
             [
              0.3333333333333333,
              "#9c179e"
             ],
             [
              0.4444444444444444,
              "#bd3786"
             ],
             [
              0.5555555555555556,
              "#d8576b"
             ],
             [
              0.6666666666666666,
              "#ed7953"
             ],
             [
              0.7777777777777778,
              "#fb9f3a"
             ],
             [
              0.8888888888888888,
              "#fdca26"
             ],
             [
              1,
              "#f0f921"
             ]
            ],
            "type": "contour"
           }
          ],
          "contourcarpet": [
           {
            "colorbar": {
             "outlinewidth": 0,
             "ticks": ""
            },
            "type": "contourcarpet"
           }
          ],
          "heatmap": [
           {
            "colorbar": {
             "outlinewidth": 0,
             "ticks": ""
            },
            "colorscale": [
             [
              0,
              "#0d0887"
             ],
             [
              0.1111111111111111,
              "#46039f"
             ],
             [
              0.2222222222222222,
              "#7201a8"
             ],
             [
              0.3333333333333333,
              "#9c179e"
             ],
             [
              0.4444444444444444,
              "#bd3786"
             ],
             [
              0.5555555555555556,
              "#d8576b"
             ],
             [
              0.6666666666666666,
              "#ed7953"
             ],
             [
              0.7777777777777778,
              "#fb9f3a"
             ],
             [
              0.8888888888888888,
              "#fdca26"
             ],
             [
              1,
              "#f0f921"
             ]
            ],
            "type": "heatmap"
           }
          ],
          "heatmapgl": [
           {
            "colorbar": {
             "outlinewidth": 0,
             "ticks": ""
            },
            "colorscale": [
             [
              0,
              "#0d0887"
             ],
             [
              0.1111111111111111,
              "#46039f"
             ],
             [
              0.2222222222222222,
              "#7201a8"
             ],
             [
              0.3333333333333333,
              "#9c179e"
             ],
             [
              0.4444444444444444,
              "#bd3786"
             ],
             [
              0.5555555555555556,
              "#d8576b"
             ],
             [
              0.6666666666666666,
              "#ed7953"
             ],
             [
              0.7777777777777778,
              "#fb9f3a"
             ],
             [
              0.8888888888888888,
              "#fdca26"
             ],
             [
              1,
              "#f0f921"
             ]
            ],
            "type": "heatmapgl"
           }
          ],
          "histogram": [
           {
            "marker": {
             "pattern": {
              "fillmode": "overlay",
              "size": 10,
              "solidity": 0.2
             }
            },
            "type": "histogram"
           }
          ],
          "histogram2d": [
           {
            "colorbar": {
             "outlinewidth": 0,
             "ticks": ""
            },
            "colorscale": [
             [
              0,
              "#0d0887"
             ],
             [
              0.1111111111111111,
              "#46039f"
             ],
             [
              0.2222222222222222,
              "#7201a8"
             ],
             [
              0.3333333333333333,
              "#9c179e"
             ],
             [
              0.4444444444444444,
              "#bd3786"
             ],
             [
              0.5555555555555556,
              "#d8576b"
             ],
             [
              0.6666666666666666,
              "#ed7953"
             ],
             [
              0.7777777777777778,
              "#fb9f3a"
             ],
             [
              0.8888888888888888,
              "#fdca26"
             ],
             [
              1,
              "#f0f921"
             ]
            ],
            "type": "histogram2d"
           }
          ],
          "histogram2dcontour": [
           {
            "colorbar": {
             "outlinewidth": 0,
             "ticks": ""
            },
            "colorscale": [
             [
              0,
              "#0d0887"
             ],
             [
              0.1111111111111111,
              "#46039f"
             ],
             [
              0.2222222222222222,
              "#7201a8"
             ],
             [
              0.3333333333333333,
              "#9c179e"
             ],
             [
              0.4444444444444444,
              "#bd3786"
             ],
             [
              0.5555555555555556,
              "#d8576b"
             ],
             [
              0.6666666666666666,
              "#ed7953"
             ],
             [
              0.7777777777777778,
              "#fb9f3a"
             ],
             [
              0.8888888888888888,
              "#fdca26"
             ],
             [
              1,
              "#f0f921"
             ]
            ],
            "type": "histogram2dcontour"
           }
          ],
          "mesh3d": [
           {
            "colorbar": {
             "outlinewidth": 0,
             "ticks": ""
            },
            "type": "mesh3d"
           }
          ],
          "parcoords": [
           {
            "line": {
             "colorbar": {
              "outlinewidth": 0,
              "ticks": ""
             }
            },
            "type": "parcoords"
           }
          ],
          "pie": [
           {
            "automargin": true,
            "type": "pie"
           }
          ],
          "scatter": [
           {
            "fillpattern": {
             "fillmode": "overlay",
             "size": 10,
             "solidity": 0.2
            },
            "type": "scatter"
           }
          ],
          "scatter3d": [
           {
            "line": {
             "colorbar": {
              "outlinewidth": 0,
              "ticks": ""
             }
            },
            "marker": {
             "colorbar": {
              "outlinewidth": 0,
              "ticks": ""
             }
            },
            "type": "scatter3d"
           }
          ],
          "scattercarpet": [
           {
            "marker": {
             "colorbar": {
              "outlinewidth": 0,
              "ticks": ""
             }
            },
            "type": "scattercarpet"
           }
          ],
          "scattergeo": [
           {
            "marker": {
             "colorbar": {
              "outlinewidth": 0,
              "ticks": ""
             }
            },
            "type": "scattergeo"
           }
          ],
          "scattergl": [
           {
            "marker": {
             "colorbar": {
              "outlinewidth": 0,
              "ticks": ""
             }
            },
            "type": "scattergl"
           }
          ],
          "scattermapbox": [
           {
            "marker": {
             "colorbar": {
              "outlinewidth": 0,
              "ticks": ""
             }
            },
            "type": "scattermapbox"
           }
          ],
          "scatterpolar": [
           {
            "marker": {
             "colorbar": {
              "outlinewidth": 0,
              "ticks": ""
             }
            },
            "type": "scatterpolar"
           }
          ],
          "scatterpolargl": [
           {
            "marker": {
             "colorbar": {
              "outlinewidth": 0,
              "ticks": ""
             }
            },
            "type": "scatterpolargl"
           }
          ],
          "scatterternary": [
           {
            "marker": {
             "colorbar": {
              "outlinewidth": 0,
              "ticks": ""
             }
            },
            "type": "scatterternary"
           }
          ],
          "surface": [
           {
            "colorbar": {
             "outlinewidth": 0,
             "ticks": ""
            },
            "colorscale": [
             [
              0,
              "#0d0887"
             ],
             [
              0.1111111111111111,
              "#46039f"
             ],
             [
              0.2222222222222222,
              "#7201a8"
             ],
             [
              0.3333333333333333,
              "#9c179e"
             ],
             [
              0.4444444444444444,
              "#bd3786"
             ],
             [
              0.5555555555555556,
              "#d8576b"
             ],
             [
              0.6666666666666666,
              "#ed7953"
             ],
             [
              0.7777777777777778,
              "#fb9f3a"
             ],
             [
              0.8888888888888888,
              "#fdca26"
             ],
             [
              1,
              "#f0f921"
             ]
            ],
            "type": "surface"
           }
          ],
          "table": [
           {
            "cells": {
             "fill": {
              "color": "#EBF0F8"
             },
             "line": {
              "color": "white"
             }
            },
            "header": {
             "fill": {
              "color": "#C8D4E3"
             },
             "line": {
              "color": "white"
             }
            },
            "type": "table"
           }
          ]
         },
         "layout": {
          "annotationdefaults": {
           "arrowcolor": "#2a3f5f",
           "arrowhead": 0,
           "arrowwidth": 1
          },
          "autotypenumbers": "strict",
          "coloraxis": {
           "colorbar": {
            "outlinewidth": 0,
            "ticks": ""
           }
          },
          "colorscale": {
           "diverging": [
            [
             0,
             "#8e0152"
            ],
            [
             0.1,
             "#c51b7d"
            ],
            [
             0.2,
             "#de77ae"
            ],
            [
             0.3,
             "#f1b6da"
            ],
            [
             0.4,
             "#fde0ef"
            ],
            [
             0.5,
             "#f7f7f7"
            ],
            [
             0.6,
             "#e6f5d0"
            ],
            [
             0.7,
             "#b8e186"
            ],
            [
             0.8,
             "#7fbc41"
            ],
            [
             0.9,
             "#4d9221"
            ],
            [
             1,
             "#276419"
            ]
           ],
           "sequential": [
            [
             0,
             "#0d0887"
            ],
            [
             0.1111111111111111,
             "#46039f"
            ],
            [
             0.2222222222222222,
             "#7201a8"
            ],
            [
             0.3333333333333333,
             "#9c179e"
            ],
            [
             0.4444444444444444,
             "#bd3786"
            ],
            [
             0.5555555555555556,
             "#d8576b"
            ],
            [
             0.6666666666666666,
             "#ed7953"
            ],
            [
             0.7777777777777778,
             "#fb9f3a"
            ],
            [
             0.8888888888888888,
             "#fdca26"
            ],
            [
             1,
             "#f0f921"
            ]
           ],
           "sequentialminus": [
            [
             0,
             "#0d0887"
            ],
            [
             0.1111111111111111,
             "#46039f"
            ],
            [
             0.2222222222222222,
             "#7201a8"
            ],
            [
             0.3333333333333333,
             "#9c179e"
            ],
            [
             0.4444444444444444,
             "#bd3786"
            ],
            [
             0.5555555555555556,
             "#d8576b"
            ],
            [
             0.6666666666666666,
             "#ed7953"
            ],
            [
             0.7777777777777778,
             "#fb9f3a"
            ],
            [
             0.8888888888888888,
             "#fdca26"
            ],
            [
             1,
             "#f0f921"
            ]
           ]
          },
          "colorway": [
           "#636efa",
           "#EF553B",
           "#00cc96",
           "#ab63fa",
           "#FFA15A",
           "#19d3f3",
           "#FF6692",
           "#B6E880",
           "#FF97FF",
           "#FECB52"
          ],
          "font": {
           "color": "#2a3f5f"
          },
          "geo": {
           "bgcolor": "white",
           "lakecolor": "white",
           "landcolor": "#E5ECF6",
           "showlakes": true,
           "showland": true,
           "subunitcolor": "white"
          },
          "hoverlabel": {
           "align": "left"
          },
          "hovermode": "closest",
          "mapbox": {
           "style": "light"
          },
          "paper_bgcolor": "white",
          "plot_bgcolor": "#E5ECF6",
          "polar": {
           "angularaxis": {
            "gridcolor": "white",
            "linecolor": "white",
            "ticks": ""
           },
           "bgcolor": "#E5ECF6",
           "radialaxis": {
            "gridcolor": "white",
            "linecolor": "white",
            "ticks": ""
           }
          },
          "scene": {
           "xaxis": {
            "backgroundcolor": "#E5ECF6",
            "gridcolor": "white",
            "gridwidth": 2,
            "linecolor": "white",
            "showbackground": true,
            "ticks": "",
            "zerolinecolor": "white"
           },
           "yaxis": {
            "backgroundcolor": "#E5ECF6",
            "gridcolor": "white",
            "gridwidth": 2,
            "linecolor": "white",
            "showbackground": true,
            "ticks": "",
            "zerolinecolor": "white"
           },
           "zaxis": {
            "backgroundcolor": "#E5ECF6",
            "gridcolor": "white",
            "gridwidth": 2,
            "linecolor": "white",
            "showbackground": true,
            "ticks": "",
            "zerolinecolor": "white"
           }
          },
          "shapedefaults": {
           "line": {
            "color": "#2a3f5f"
           }
          },
          "ternary": {
           "aaxis": {
            "gridcolor": "white",
            "linecolor": "white",
            "ticks": ""
           },
           "baxis": {
            "gridcolor": "white",
            "linecolor": "white",
            "ticks": ""
           },
           "bgcolor": "#E5ECF6",
           "caxis": {
            "gridcolor": "white",
            "linecolor": "white",
            "ticks": ""
           }
          },
          "title": {
           "x": 0.05
          },
          "xaxis": {
           "automargin": true,
           "gridcolor": "white",
           "linecolor": "white",
           "ticks": "",
           "title": {
            "standoff": 15
           },
           "zerolinecolor": "white",
           "zerolinewidth": 2
          },
          "yaxis": {
           "automargin": true,
           "gridcolor": "white",
           "linecolor": "white",
           "ticks": "",
           "title": {
            "standoff": 15
           },
           "zerolinecolor": "white",
           "zerolinewidth": 2
          }
         }
        },
        "title": {
         "text": "Minimmum snow_depth depending on the aspect"
        },
        "width": 1800,
        "xaxis": {
         "anchor": "y",
         "domain": [
          0,
          0.2125
         ],
         "title": {
          "text": "Height"
         }
        },
        "xaxis2": {
         "anchor": "y2",
         "domain": [
          0.2625,
          0.475
         ],
         "title": {
          "text": "Height"
         }
        },
        "xaxis3": {
         "anchor": "y3",
         "domain": [
          0.525,
          0.7375
         ],
         "title": {
          "text": "Height"
         }
        },
        "xaxis4": {
         "anchor": "y4",
         "domain": [
          0.7875,
          1
         ],
         "title": {
          "text": "Height"
         }
        },
        "yaxis": {
         "anchor": "x",
         "domain": [
          0,
          1
         ],
         "title": {
          "text": "Snow depth"
         }
        },
        "yaxis2": {
         "anchor": "x2",
         "domain": [
          0,
          1
         ],
         "title": {
          "text": "Snow depth"
         }
        },
        "yaxis3": {
         "anchor": "x3",
         "domain": [
          0,
          1
         ],
         "title": {
          "text": "Snow depth"
         }
        },
        "yaxis4": {
         "anchor": "x4",
         "domain": [
          0,
          1
         ],
         "title": {
          "text": "Snow depth"
         }
        }
       }
      }
     },
     "metadata": {},
     "output_type": "display_data"
    }
   ],
   "source": [
    "fig = ps.make_subplots(rows=1, cols=4, subplot_titles=['North Face', 'South Face', 'East Face', 'West Face'], specs=[\n",
    "  [{'type':'bar'}, {'type':'bar'}, {'type':'bar'}, {'type':'bar'}]])\n",
    "\n",
    "for slope, group in sd_210322_north_groupby.groupby('Slope'):\n",
    "  fig.add_trace(go.Bar(\n",
    "    x=group['Height'],\n",
    "    y=group['Min'],\n",
    "    legendgroup='Slope',\n",
    "    name=slope + ' deg'), row=1, col=1)\n",
    "\n",
    "for slope, group in sd_210322_south_groupby.groupby('Slope'):\n",
    "  fig.add_trace(go.Bar(\n",
    "    x=group['Height'],\n",
    "    y=group['Min'],\n",
    "    #name=slope + 'deg',\n",
    "    showlegend=False), row=1, col=2)\n",
    "\n",
    "for slope, group in sd_210322_east_groupby.groupby('Slope'):\n",
    "  fig.add_trace(go.Bar(\n",
    "    x=group['Height'],\n",
    "    y=group['Min'],\n",
    "    #name=slope + 'deg',\n",
    "    showlegend=False), row=1, col=3)\n",
    "\n",
    "for slope, group in sd_210322_west_groupby.groupby('Slope'):\n",
    "  fig.add_trace(go.Bar(\n",
    "    x=group['Height'],\n",
    "    y=group['Min'],\n",
    "    #name=slope + 'deg', \n",
    "    showlegend=False), row=1, col=4)\n",
    "\n",
    "fig.update_layout(title= 'Minimmum snow_depth depending on the aspect', legend_title_text='Slopes:', width= 1800, height=700)\n",
    "fig.update_xaxes(title_text='Height')\n",
    "fig.update_yaxes(title_text='Snow depth')\n",
    "fig.update_traces()\n",
    "fig.show()"
   ]
  },
  {
   "cell_type": "markdown",
   "metadata": {},
   "source": [
    "### 3) General Plot (insight on the data)"
   ]
  },
  {
   "cell_type": "code",
   "execution_count": 17,
   "metadata": {},
   "outputs": [],
   "source": [
    "#First we are going to groupby the height for each df\n",
    "sd_210322_north_by_height = sd_210322_north.groupby(by=sd_210322_north.Height).agg('mean')\n",
    "sd_210322_south_by_height = sd_210322_south.groupby(by=sd_210322_south.Height).agg('mean')\n",
    "sd_210322_east_by_height = sd_210322_east.groupby(by=sd_210322_east.Height).agg('mean')\n",
    "sd_210322_west_by_height = sd_210322_west.groupby(by=sd_210322_west.Height).agg('mean')"
   ]
  },
  {
   "cell_type": "code",
   "execution_count": 18,
   "metadata": {},
   "outputs": [
    {
     "name": "stdout",
     "output_type": "stream",
     "text": [
      "                Min       Max      Mean  Weighted_Mean    Median  Variance  \\\n",
      "Height                                                                       \n",
      "2100_2200  0.080563  1.781669  0.947418       0.947418  0.962513  0.104837   \n",
      "2200_2300  0.392143  1.560243  0.993698       0.993698  0.957620  0.083345   \n",
      "2300_2400  0.196898  3.106137  1.336428       1.336428  1.300862  0.207322   \n",
      "\n",
      "           Standard_Dev  Skeweness    Ranges  \n",
      "Height                                        \n",
      "2100_2200      0.316906  -0.422022  1.701106  \n",
      "2200_2300      0.265088   0.285115  1.168100  \n",
      "2300_2400      0.455155   0.634692  2.909239  \n"
     ]
    },
    {
     "data": {
      "application/vnd.plotly.v1+json": {
       "config": {
        "plotlyServerURL": "https://plot.ly"
       },
       "data": [
        {
         "line": {
          "color": "black"
         },
         "marker": {
          "color": [
           "lightgreen",
           "green",
           "turquoise",
           "blue",
           "darkblue"
          ],
          "line": {
           "color": "black",
           "width": 2
          }
         },
         "name": "Min. snow_depth north",
         "type": "scatter",
         "x": [
          "2100_2200",
          "2200_2300",
          "2300_2400",
          "2400_2500",
          "2500_2700"
         ],
         "xaxis": "x",
         "y": [
          0.010212013109878626,
          0.01409885294566493,
          0.0378969462360601,
          0.12101236458892117,
          0.25917182476428025
         ],
         "yaxis": "y"
        },
        {
         "line": {
          "color": "black"
         },
         "marker": {
          "color": [
           "lightgreen",
           "green",
           "turquoise",
           "blue",
           "darkblue"
          ],
          "line": {
           "color": "grey",
           "width": 2
          }
         },
         "name": "Min. snow_depth south",
         "type": "scatter",
         "x": [
          "2100_2200",
          "2200_2300",
          "2300_2400",
          "2400_2500",
          "2500_2700"
         ],
         "xaxis": "x2",
         "y": [
          0.26168519415114133,
          0.45055425925738746,
          0.30532610653074244,
          0.21285280785536997,
          0.5488825074569945
         ],
         "yaxis": "y2"
        },
        {
         "line": {
          "color": "black"
         },
         "marker": {
          "color": [
           "lightgreen",
           "green",
           "turquoise",
           "blue",
           "darkblue"
          ],
          "line": {
           "color": "violet",
           "width": 2
          }
         },
         "name": "Min. snow_depth east",
         "type": "scatter",
         "x": [
          "2100_2200",
          "2200_2300",
          "2300_2400",
          "2400_2500",
          "2500_2700"
         ],
         "xaxis": "x3",
         "y": [
          0.08056254449517534,
          0.3921429953581992,
          0.19689804849735992,
          0.7220164785198904,
          0.9793130281718732
         ],
         "yaxis": "y3"
        },
        {
         "line": {
          "color": "black"
         },
         "marker": {
          "color": [
           "lightgreen",
           "green",
           "turquoise",
           "blue",
           "darkblue"
          ],
          "line": {
           "color": "darkblue",
           "width": 2
          }
         },
         "name": "Min. snow_depth west",
         "type": "scatter",
         "x": [
          "2100_2200",
          "2200_2300",
          "2300_2400",
          "2400_2500",
          "2500_2700"
         ],
         "xaxis": "x4",
         "y": [
          0.019172644724221755,
          0.015894576052611836,
          0.0781699621133157,
          0.17743063444704604,
          0.3008859916357324
         ],
         "yaxis": "y4"
        },
        {
         "line": {
          "color": "black"
         },
         "marker": {
          "color": [
           "lightyellow",
           "yellow",
           "orange",
           "orangered",
           "red"
          ],
          "line": {
           "color": "darkturquoise",
           "width": 2
          }
         },
         "name": "Max. snow_depth north",
         "type": "scatter",
         "x": [
          "2100_2200",
          "2200_2300",
          "2300_2400",
          "2400_2500",
          "2500_2700"
         ],
         "xaxis": "x5",
         "y": [
          3.112564696313598,
          4.5874506848178385,
          3.6136270124231373,
          3.983537264582253,
          6.7354599729966935
         ],
         "yaxis": "y5"
        },
        {
         "line": {
          "color": "black"
         },
         "marker": {
          "color": [
           "lightyellow",
           "yellow",
           "orange",
           "orangered",
           "red"
          ],
          "line": {
           "color": "blue",
           "width": 2
          }
         },
         "name": "Max. snow_depth south",
         "type": "scatter",
         "x": [
          "2100_2200",
          "2200_2300",
          "2300_2400",
          "2400_2500",
          "2500_2700"
         ],
         "xaxis": "x6",
         "y": [
          1.9392132297084004,
          3.6816215595237622,
          3.4856531547223426,
          3.0768916946677223,
          3.457078403429989
         ],
         "yaxis": "y6"
        },
        {
         "line": {
          "color": "black"
         },
         "marker": {
          "color": [
           "lightyellow",
           "yellow",
           "orange",
           "orangered",
           "red"
          ],
          "line": {
           "color": "turquoise",
           "width": 2
          }
         },
         "name": "Max. snow_depth east",
         "type": "scatter",
         "x": [
          "2100_2200",
          "2200_2300",
          "2300_2400",
          "2400_2500",
          "2500_2700"
         ],
         "xaxis": "x7",
         "y": [
          1.7816689044499678,
          1.5602430536580414,
          3.106137059211278,
          3.81736252559449,
          3.12181097328903
         ],
         "yaxis": "y7"
        },
        {
         "line": {
          "color": "black"
         },
         "marker": {
          "color": [
           "lightyellow",
           "yellow",
           "orange",
           "orangered",
           "red"
          ],
          "line": {
           "color": "lightblue",
           "width": 2
          }
         },
         "name": "Max. snow_depth west",
         "type": "scatter",
         "x": [
          "2100_2200",
          "2200_2300",
          "2300_2400",
          "2400_2500",
          "2500_2700"
         ],
         "xaxis": "x8",
         "y": [
          3.382322795711237,
          3.3285072638124498,
          3.5983579035320874,
          3.669964813464594,
          6.977971542952036
         ],
         "yaxis": "y8"
        }
       ],
       "layout": {
        "annotations": [
         {
          "font": {
           "size": 16
          },
          "showarrow": false,
          "text": "min North Face",
          "x": 0.10625,
          "xanchor": "center",
          "xref": "paper",
          "y": 1,
          "yanchor": "bottom",
          "yref": "paper"
         },
         {
          "font": {
           "size": 16
          },
          "showarrow": false,
          "text": "min South Face",
          "x": 0.36875,
          "xanchor": "center",
          "xref": "paper",
          "y": 1,
          "yanchor": "bottom",
          "yref": "paper"
         },
         {
          "font": {
           "size": 16
          },
          "showarrow": false,
          "text": "min East Face",
          "x": 0.6312500000000001,
          "xanchor": "center",
          "xref": "paper",
          "y": 1,
          "yanchor": "bottom",
          "yref": "paper"
         },
         {
          "font": {
           "size": 16
          },
          "showarrow": false,
          "text": "min West Face",
          "x": 0.89375,
          "xanchor": "center",
          "xref": "paper",
          "y": 1,
          "yanchor": "bottom",
          "yref": "paper"
         },
         {
          "font": {
           "size": 16
          },
          "showarrow": false,
          "text": "max North Face",
          "x": 0.10625,
          "xanchor": "center",
          "xref": "paper",
          "y": 0.375,
          "yanchor": "bottom",
          "yref": "paper"
         },
         {
          "font": {
           "size": 16
          },
          "showarrow": false,
          "text": "max South Face",
          "x": 0.36875,
          "xanchor": "center",
          "xref": "paper",
          "y": 0.375,
          "yanchor": "bottom",
          "yref": "paper"
         },
         {
          "font": {
           "size": 16
          },
          "showarrow": false,
          "text": "max East Face",
          "x": 0.6312500000000001,
          "xanchor": "center",
          "xref": "paper",
          "y": 0.375,
          "yanchor": "bottom",
          "yref": "paper"
         },
         {
          "font": {
           "size": 16
          },
          "showarrow": false,
          "text": "max West Face",
          "x": 0.89375,
          "xanchor": "center",
          "xref": "paper",
          "y": 0.375,
          "yanchor": "bottom",
          "yref": "paper"
         }
        ],
        "height": 700,
        "legend": {
         "title": {
          "text": "Snow depth as a function of the height:"
         }
        },
        "template": {
         "data": {
          "bar": [
           {
            "error_x": {
             "color": "#2a3f5f"
            },
            "error_y": {
             "color": "#2a3f5f"
            },
            "marker": {
             "line": {
              "color": "#E5ECF6",
              "width": 0.5
             },
             "pattern": {
              "fillmode": "overlay",
              "size": 10,
              "solidity": 0.2
             }
            },
            "type": "bar"
           }
          ],
          "barpolar": [
           {
            "marker": {
             "line": {
              "color": "#E5ECF6",
              "width": 0.5
             },
             "pattern": {
              "fillmode": "overlay",
              "size": 10,
              "solidity": 0.2
             }
            },
            "type": "barpolar"
           }
          ],
          "carpet": [
           {
            "aaxis": {
             "endlinecolor": "#2a3f5f",
             "gridcolor": "white",
             "linecolor": "white",
             "minorgridcolor": "white",
             "startlinecolor": "#2a3f5f"
            },
            "baxis": {
             "endlinecolor": "#2a3f5f",
             "gridcolor": "white",
             "linecolor": "white",
             "minorgridcolor": "white",
             "startlinecolor": "#2a3f5f"
            },
            "type": "carpet"
           }
          ],
          "choropleth": [
           {
            "colorbar": {
             "outlinewidth": 0,
             "ticks": ""
            },
            "type": "choropleth"
           }
          ],
          "contour": [
           {
            "colorbar": {
             "outlinewidth": 0,
             "ticks": ""
            },
            "colorscale": [
             [
              0,
              "#0d0887"
             ],
             [
              0.1111111111111111,
              "#46039f"
             ],
             [
              0.2222222222222222,
              "#7201a8"
             ],
             [
              0.3333333333333333,
              "#9c179e"
             ],
             [
              0.4444444444444444,
              "#bd3786"
             ],
             [
              0.5555555555555556,
              "#d8576b"
             ],
             [
              0.6666666666666666,
              "#ed7953"
             ],
             [
              0.7777777777777778,
              "#fb9f3a"
             ],
             [
              0.8888888888888888,
              "#fdca26"
             ],
             [
              1,
              "#f0f921"
             ]
            ],
            "type": "contour"
           }
          ],
          "contourcarpet": [
           {
            "colorbar": {
             "outlinewidth": 0,
             "ticks": ""
            },
            "type": "contourcarpet"
           }
          ],
          "heatmap": [
           {
            "colorbar": {
             "outlinewidth": 0,
             "ticks": ""
            },
            "colorscale": [
             [
              0,
              "#0d0887"
             ],
             [
              0.1111111111111111,
              "#46039f"
             ],
             [
              0.2222222222222222,
              "#7201a8"
             ],
             [
              0.3333333333333333,
              "#9c179e"
             ],
             [
              0.4444444444444444,
              "#bd3786"
             ],
             [
              0.5555555555555556,
              "#d8576b"
             ],
             [
              0.6666666666666666,
              "#ed7953"
             ],
             [
              0.7777777777777778,
              "#fb9f3a"
             ],
             [
              0.8888888888888888,
              "#fdca26"
             ],
             [
              1,
              "#f0f921"
             ]
            ],
            "type": "heatmap"
           }
          ],
          "heatmapgl": [
           {
            "colorbar": {
             "outlinewidth": 0,
             "ticks": ""
            },
            "colorscale": [
             [
              0,
              "#0d0887"
             ],
             [
              0.1111111111111111,
              "#46039f"
             ],
             [
              0.2222222222222222,
              "#7201a8"
             ],
             [
              0.3333333333333333,
              "#9c179e"
             ],
             [
              0.4444444444444444,
              "#bd3786"
             ],
             [
              0.5555555555555556,
              "#d8576b"
             ],
             [
              0.6666666666666666,
              "#ed7953"
             ],
             [
              0.7777777777777778,
              "#fb9f3a"
             ],
             [
              0.8888888888888888,
              "#fdca26"
             ],
             [
              1,
              "#f0f921"
             ]
            ],
            "type": "heatmapgl"
           }
          ],
          "histogram": [
           {
            "marker": {
             "pattern": {
              "fillmode": "overlay",
              "size": 10,
              "solidity": 0.2
             }
            },
            "type": "histogram"
           }
          ],
          "histogram2d": [
           {
            "colorbar": {
             "outlinewidth": 0,
             "ticks": ""
            },
            "colorscale": [
             [
              0,
              "#0d0887"
             ],
             [
              0.1111111111111111,
              "#46039f"
             ],
             [
              0.2222222222222222,
              "#7201a8"
             ],
             [
              0.3333333333333333,
              "#9c179e"
             ],
             [
              0.4444444444444444,
              "#bd3786"
             ],
             [
              0.5555555555555556,
              "#d8576b"
             ],
             [
              0.6666666666666666,
              "#ed7953"
             ],
             [
              0.7777777777777778,
              "#fb9f3a"
             ],
             [
              0.8888888888888888,
              "#fdca26"
             ],
             [
              1,
              "#f0f921"
             ]
            ],
            "type": "histogram2d"
           }
          ],
          "histogram2dcontour": [
           {
            "colorbar": {
             "outlinewidth": 0,
             "ticks": ""
            },
            "colorscale": [
             [
              0,
              "#0d0887"
             ],
             [
              0.1111111111111111,
              "#46039f"
             ],
             [
              0.2222222222222222,
              "#7201a8"
             ],
             [
              0.3333333333333333,
              "#9c179e"
             ],
             [
              0.4444444444444444,
              "#bd3786"
             ],
             [
              0.5555555555555556,
              "#d8576b"
             ],
             [
              0.6666666666666666,
              "#ed7953"
             ],
             [
              0.7777777777777778,
              "#fb9f3a"
             ],
             [
              0.8888888888888888,
              "#fdca26"
             ],
             [
              1,
              "#f0f921"
             ]
            ],
            "type": "histogram2dcontour"
           }
          ],
          "mesh3d": [
           {
            "colorbar": {
             "outlinewidth": 0,
             "ticks": ""
            },
            "type": "mesh3d"
           }
          ],
          "parcoords": [
           {
            "line": {
             "colorbar": {
              "outlinewidth": 0,
              "ticks": ""
             }
            },
            "type": "parcoords"
           }
          ],
          "pie": [
           {
            "automargin": true,
            "type": "pie"
           }
          ],
          "scatter": [
           {
            "fillpattern": {
             "fillmode": "overlay",
             "size": 10,
             "solidity": 0.2
            },
            "type": "scatter"
           }
          ],
          "scatter3d": [
           {
            "line": {
             "colorbar": {
              "outlinewidth": 0,
              "ticks": ""
             }
            },
            "marker": {
             "colorbar": {
              "outlinewidth": 0,
              "ticks": ""
             }
            },
            "type": "scatter3d"
           }
          ],
          "scattercarpet": [
           {
            "marker": {
             "colorbar": {
              "outlinewidth": 0,
              "ticks": ""
             }
            },
            "type": "scattercarpet"
           }
          ],
          "scattergeo": [
           {
            "marker": {
             "colorbar": {
              "outlinewidth": 0,
              "ticks": ""
             }
            },
            "type": "scattergeo"
           }
          ],
          "scattergl": [
           {
            "marker": {
             "colorbar": {
              "outlinewidth": 0,
              "ticks": ""
             }
            },
            "type": "scattergl"
           }
          ],
          "scattermapbox": [
           {
            "marker": {
             "colorbar": {
              "outlinewidth": 0,
              "ticks": ""
             }
            },
            "type": "scattermapbox"
           }
          ],
          "scatterpolar": [
           {
            "marker": {
             "colorbar": {
              "outlinewidth": 0,
              "ticks": ""
             }
            },
            "type": "scatterpolar"
           }
          ],
          "scatterpolargl": [
           {
            "marker": {
             "colorbar": {
              "outlinewidth": 0,
              "ticks": ""
             }
            },
            "type": "scatterpolargl"
           }
          ],
          "scatterternary": [
           {
            "marker": {
             "colorbar": {
              "outlinewidth": 0,
              "ticks": ""
             }
            },
            "type": "scatterternary"
           }
          ],
          "surface": [
           {
            "colorbar": {
             "outlinewidth": 0,
             "ticks": ""
            },
            "colorscale": [
             [
              0,
              "#0d0887"
             ],
             [
              0.1111111111111111,
              "#46039f"
             ],
             [
              0.2222222222222222,
              "#7201a8"
             ],
             [
              0.3333333333333333,
              "#9c179e"
             ],
             [
              0.4444444444444444,
              "#bd3786"
             ],
             [
              0.5555555555555556,
              "#d8576b"
             ],
             [
              0.6666666666666666,
              "#ed7953"
             ],
             [
              0.7777777777777778,
              "#fb9f3a"
             ],
             [
              0.8888888888888888,
              "#fdca26"
             ],
             [
              1,
              "#f0f921"
             ]
            ],
            "type": "surface"
           }
          ],
          "table": [
           {
            "cells": {
             "fill": {
              "color": "#EBF0F8"
             },
             "line": {
              "color": "white"
             }
            },
            "header": {
             "fill": {
              "color": "#C8D4E3"
             },
             "line": {
              "color": "white"
             }
            },
            "type": "table"
           }
          ]
         },
         "layout": {
          "annotationdefaults": {
           "arrowcolor": "#2a3f5f",
           "arrowhead": 0,
           "arrowwidth": 1
          },
          "autotypenumbers": "strict",
          "coloraxis": {
           "colorbar": {
            "outlinewidth": 0,
            "ticks": ""
           }
          },
          "colorscale": {
           "diverging": [
            [
             0,
             "#8e0152"
            ],
            [
             0.1,
             "#c51b7d"
            ],
            [
             0.2,
             "#de77ae"
            ],
            [
             0.3,
             "#f1b6da"
            ],
            [
             0.4,
             "#fde0ef"
            ],
            [
             0.5,
             "#f7f7f7"
            ],
            [
             0.6,
             "#e6f5d0"
            ],
            [
             0.7,
             "#b8e186"
            ],
            [
             0.8,
             "#7fbc41"
            ],
            [
             0.9,
             "#4d9221"
            ],
            [
             1,
             "#276419"
            ]
           ],
           "sequential": [
            [
             0,
             "#0d0887"
            ],
            [
             0.1111111111111111,
             "#46039f"
            ],
            [
             0.2222222222222222,
             "#7201a8"
            ],
            [
             0.3333333333333333,
             "#9c179e"
            ],
            [
             0.4444444444444444,
             "#bd3786"
            ],
            [
             0.5555555555555556,
             "#d8576b"
            ],
            [
             0.6666666666666666,
             "#ed7953"
            ],
            [
             0.7777777777777778,
             "#fb9f3a"
            ],
            [
             0.8888888888888888,
             "#fdca26"
            ],
            [
             1,
             "#f0f921"
            ]
           ],
           "sequentialminus": [
            [
             0,
             "#0d0887"
            ],
            [
             0.1111111111111111,
             "#46039f"
            ],
            [
             0.2222222222222222,
             "#7201a8"
            ],
            [
             0.3333333333333333,
             "#9c179e"
            ],
            [
             0.4444444444444444,
             "#bd3786"
            ],
            [
             0.5555555555555556,
             "#d8576b"
            ],
            [
             0.6666666666666666,
             "#ed7953"
            ],
            [
             0.7777777777777778,
             "#fb9f3a"
            ],
            [
             0.8888888888888888,
             "#fdca26"
            ],
            [
             1,
             "#f0f921"
            ]
           ]
          },
          "colorway": [
           "#636efa",
           "#EF553B",
           "#00cc96",
           "#ab63fa",
           "#FFA15A",
           "#19d3f3",
           "#FF6692",
           "#B6E880",
           "#FF97FF",
           "#FECB52"
          ],
          "font": {
           "color": "#2a3f5f"
          },
          "geo": {
           "bgcolor": "white",
           "lakecolor": "white",
           "landcolor": "#E5ECF6",
           "showlakes": true,
           "showland": true,
           "subunitcolor": "white"
          },
          "hoverlabel": {
           "align": "left"
          },
          "hovermode": "closest",
          "mapbox": {
           "style": "light"
          },
          "paper_bgcolor": "white",
          "plot_bgcolor": "#E5ECF6",
          "polar": {
           "angularaxis": {
            "gridcolor": "white",
            "linecolor": "white",
            "ticks": ""
           },
           "bgcolor": "#E5ECF6",
           "radialaxis": {
            "gridcolor": "white",
            "linecolor": "white",
            "ticks": ""
           }
          },
          "scene": {
           "xaxis": {
            "backgroundcolor": "#E5ECF6",
            "gridcolor": "white",
            "gridwidth": 2,
            "linecolor": "white",
            "showbackground": true,
            "ticks": "",
            "zerolinecolor": "white"
           },
           "yaxis": {
            "backgroundcolor": "#E5ECF6",
            "gridcolor": "white",
            "gridwidth": 2,
            "linecolor": "white",
            "showbackground": true,
            "ticks": "",
            "zerolinecolor": "white"
           },
           "zaxis": {
            "backgroundcolor": "#E5ECF6",
            "gridcolor": "white",
            "gridwidth": 2,
            "linecolor": "white",
            "showbackground": true,
            "ticks": "",
            "zerolinecolor": "white"
           }
          },
          "shapedefaults": {
           "line": {
            "color": "#2a3f5f"
           }
          },
          "ternary": {
           "aaxis": {
            "gridcolor": "white",
            "linecolor": "white",
            "ticks": ""
           },
           "baxis": {
            "gridcolor": "white",
            "linecolor": "white",
            "ticks": ""
           },
           "bgcolor": "#E5ECF6",
           "caxis": {
            "gridcolor": "white",
            "linecolor": "white",
            "ticks": ""
           }
          },
          "title": {
           "x": 0.05
          },
          "xaxis": {
           "automargin": true,
           "gridcolor": "white",
           "linecolor": "white",
           "ticks": "",
           "title": {
            "standoff": 15
           },
           "zerolinecolor": "white",
           "zerolinewidth": 2
          },
          "yaxis": {
           "automargin": true,
           "gridcolor": "white",
           "linecolor": "white",
           "ticks": "",
           "title": {
            "standoff": 15
           },
           "zerolinecolor": "white",
           "zerolinewidth": 2
          }
         }
        },
        "title": {
         "text": "Minimmum and Maximmum values of snowdepth values"
        },
        "width": 1800,
        "xaxis": {
         "anchor": "y",
         "domain": [
          0,
          0.2125
         ],
         "title": {
          "text": "Height"
         }
        },
        "xaxis2": {
         "anchor": "y2",
         "domain": [
          0.2625,
          0.475
         ],
         "title": {
          "text": "Height"
         }
        },
        "xaxis3": {
         "anchor": "y3",
         "domain": [
          0.525,
          0.7375
         ],
         "title": {
          "text": "Height"
         }
        },
        "xaxis4": {
         "anchor": "y4",
         "domain": [
          0.7875,
          1
         ],
         "title": {
          "text": "Height"
         }
        },
        "xaxis5": {
         "anchor": "y5",
         "domain": [
          0,
          0.2125
         ],
         "title": {
          "text": "Height"
         }
        },
        "xaxis6": {
         "anchor": "y6",
         "domain": [
          0.2625,
          0.475
         ],
         "title": {
          "text": "Height"
         }
        },
        "xaxis7": {
         "anchor": "y7",
         "domain": [
          0.525,
          0.7375
         ],
         "title": {
          "text": "Height"
         }
        },
        "xaxis8": {
         "anchor": "y8",
         "domain": [
          0.7875,
          1
         ],
         "title": {
          "text": "Height"
         }
        },
        "yaxis": {
         "anchor": "x",
         "domain": [
          0.625,
          1
         ],
         "title": {
          "text": "Snow depth"
         }
        },
        "yaxis2": {
         "anchor": "x2",
         "domain": [
          0.625,
          1
         ],
         "title": {
          "text": "Snow depth"
         }
        },
        "yaxis3": {
         "anchor": "x3",
         "domain": [
          0.625,
          1
         ],
         "title": {
          "text": "Snow depth"
         }
        },
        "yaxis4": {
         "anchor": "x4",
         "domain": [
          0.625,
          1
         ],
         "title": {
          "text": "Snow depth"
         }
        },
        "yaxis5": {
         "anchor": "x5",
         "domain": [
          0,
          0.375
         ],
         "title": {
          "text": "Snow depth"
         }
        },
        "yaxis6": {
         "anchor": "x6",
         "domain": [
          0,
          0.375
         ],
         "title": {
          "text": "Snow depth"
         }
        },
        "yaxis7": {
         "anchor": "x7",
         "domain": [
          0,
          0.375
         ],
         "title": {
          "text": "Snow depth"
         }
        },
        "yaxis8": {
         "anchor": "x8",
         "domain": [
          0,
          0.375
         ],
         "title": {
          "text": "Snow depth"
         }
        }
       }
      }
     },
     "metadata": {},
     "output_type": "display_data"
    }
   ],
   "source": [
    "print(sd_210322_east_by_height.head(3))\n",
    "\n",
    "import plotly.subplots as ps\n",
    "import plotly.graph_objects as go\n",
    "import plotly.express as px\n",
    "\n",
    "stats_subplots = ps.make_subplots(rows=2, cols=4, subplot_titles=['min North Face', 'min South Face', 'min East Face', 'min West Face','max North Face', 'max South Face', 'max East Face', 'max West Face'], \n",
    "  specs=[[{'type':'bar'}, {'type':'bar'}, {'type':'bar'}, {'type':'bar'}], [{'type':'bar'}, {'type':'bar'}, {'type':'bar'}, {'type':'scatter'}]])\n",
    "  \n",
    "'''[{'type':'bar'}, {'type':'bar'}, {'type':'bar'}, {'type':'bar'}], [{'type':'bar'}, {'type':'bar'}, {'type':'bar'}, {'type':'bar'}]\n",
    "  [{'type':'bar'}, {'type':'bar'}, {'type':'bar'}, {'type':'bar'}], [{'type':'bar'}, {'type':'bar'}, {'type':'bar'}, {'type':'bar'}],\n",
    "  [{'type':'bar'}, {'type':'bar'}, {'type':'bar'}, {'type':'bar'}], [{'type':'bar'}, {'type':'bar'}, {'type':'bar'}, {'type':'bar'}],\n",
    "  [{'type':'bar'}, {'type':'bar'}, {'type':'bar'}, {'type':'bar'}]\n",
    "])'''\n",
    "\n",
    "stats_subplots.add_trace(go.Scatter(\n",
    "    y=sd_210322_north_by_height['Min'],\n",
    "    x=sd_210322_north_by_height.index,\n",
    "    name='Min. snow_depth north',\n",
    "    marker=dict(line=dict(width=2, color='black'), color=['lightgreen','green','turquoise', 'blue', 'darkblue'])), \n",
    "    row=1, col=1)\n",
    "stats_subplots.add_trace(go.Scatter(\n",
    "    y=sd_210322_south_by_height['Min'],\n",
    "    x=sd_210322_south_by_height.index,\n",
    "    name='Min. snow_depth south',\n",
    "    marker=dict(line=dict(width=2, color='grey'), color=['lightgreen','green','turquoise', 'blue', 'darkblue'])), \n",
    "    row=1, col=2)\n",
    "stats_subplots.add_trace(go.Scatter(\n",
    "    y=sd_210322_east_by_height['Min'],\n",
    "    x=sd_210322_east_by_height.index,\n",
    "    name='Min. snow_depth east',\n",
    "    marker=dict(line=dict(width=2, color='violet'), color=['lightgreen','green','turquoise', 'blue', 'darkblue'])), \n",
    "    row=1, col=3)\n",
    "stats_subplots.add_trace(go.Scatter(\n",
    "    y=sd_210322_west_by_height['Min'],\n",
    "    x=sd_210322_west_by_height.index,\n",
    "    name='Min. snow_depth west',\n",
    "    marker=dict(line=dict(width=2, color='darkblue'), color=['lightgreen','green','turquoise', 'blue', 'darkblue'])), \n",
    "    row=1, col=4)\n",
    "\n",
    "stats_subplots.add_trace(go.Scatter(\n",
    "    y=sd_210322_north_by_height['Max'],\n",
    "    x=sd_210322_north_by_height.index,\n",
    "    name='Max. snow_depth north',\n",
    "    marker=dict(line=dict(width=2, color='darkturquoise'), color=['lightyellow','yellow','orange', 'orangered', 'red'])), \n",
    "    row=2, col=1)\n",
    "stats_subplots.add_trace(go.Scatter(\n",
    "    y=sd_210322_south_by_height['Max'],\n",
    "    x=sd_210322_south_by_height.index,\n",
    "    name='Max. snow_depth south',\n",
    "    marker=dict(line=dict(width=2, color='blue'), color=['lightyellow','yellow','orange', 'orangered', 'red'])),\n",
    "    row=2, col=2)\n",
    "stats_subplots.add_trace(go.Scatter(\n",
    "    y=sd_210322_east_by_height['Max'],\n",
    "    x=sd_210322_east_by_height.index,\n",
    "    name='Max. snow_depth east',\n",
    "    marker=dict(line=dict(width=2, color='turquoise'), color=['lightyellow','yellow','orange', 'orangered', 'red'])), \n",
    "    row=2, col=3)\n",
    "stats_subplots.add_trace(go.Scatter(\n",
    "    y=sd_210322_west_by_height['Max'],\n",
    "    x=sd_210322_west_by_height.index,\n",
    "    name='Max. snow_depth west',\n",
    "    marker=dict(line=dict(width=2, color='lightblue'), color=['lightyellow','yellow','orange', 'orangered', 'red'])), \n",
    "    row=2, col=4)\n",
    "\n",
    "stats_subplots.update_layout(title= 'Minimmum and Maximmum values of snowdepth values', legend_title_text='Snow depth as a function of the height:', width= 1800, height=700)\n",
    "stats_subplots.update_xaxes(title_text='Height')\n",
    "stats_subplots.update_yaxes(title_text='Snow depth')\n",
    "stats_subplots.update_traces(line=dict(color='black'), selector=dict(type='scatter'))\n",
    "stats_subplots.show()\n",
    "\n",
    "#analysis.update_coloraxes(colorscale= px.colors.qualitative.G10"
   ]
  },
  {
   "cell_type": "code",
   "execution_count": null,
   "metadata": {},
   "outputs": [],
   "source": []
  }
 ],
 "metadata": {
  "kernelspec": {
   "display_name": "Python 3.10.5 64-bit (windows store)",
   "language": "python",
   "name": "python3"
  },
  "language_info": {
   "codemirror_mode": {
    "name": "ipython",
    "version": 3
   },
   "file_extension": ".py",
   "mimetype": "text/x-python",
   "name": "python",
   "nbconvert_exporter": "python",
   "pygments_lexer": "ipython3",
   "version": "3.10.5"
  },
  "orig_nbformat": 4,
  "vscode": {
   "interpreter": {
    "hash": "fd712df7b4f585947937c5161deb79685d66de827e7091903764583aa0bcfe2b"
   }
  }
 },
 "nbformat": 4,
 "nbformat_minor": 2
}
