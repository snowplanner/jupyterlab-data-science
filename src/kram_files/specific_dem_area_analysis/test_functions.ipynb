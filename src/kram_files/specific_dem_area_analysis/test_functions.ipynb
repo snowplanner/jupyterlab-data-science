{
 "cells": [
  {
   "cell_type": "code",
   "execution_count": 1,
   "metadata": {},
   "outputs": [
    {
     "name": "stderr",
     "output_type": "stream",
     "text": [
      "C:\\Users\\montse\\AppData\\Local\\Packages\\PythonSoftwareFoundation.Python.3.10_qbz5n2kfra8p0\\LocalCache\\local-packages\\Python310\\site-packages\\geopandas\\_compat.py:112: UserWarning: The Shapely GEOS version (3.10.2-CAPI-1.16.0) is incompatible with the GEOS version PyGEOS was compiled with (3.10.3-CAPI-1.16.1). Conversions between both will be slow.\n",
      "  warnings.warn(\n"
     ]
    }
   ],
   "source": [
    "import numpy as np\n",
    "import libpysal\n",
    "import mapclassify as mc\n",
    "import automatization\n",
    "import dem_polygon_treatment\n",
    "from dem_utils_import import load_json, load_rast"
   ]
  },
  {
   "cell_type": "markdown",
   "metadata": {},
   "source": [
    "## Test functions of the module:"
   ]
  },
  {
   "cell_type": "code",
   "execution_count": 2,
   "metadata": {},
   "outputs": [],
   "source": [
    "#Load Paths:\n",
    "trails_3d_path = 'C:/Users/montse/Desktop/ARI-Git/jupyterlab-data-science/src/data/geo_data_saetde/trails_4326.geojson'\n",
    "dem_path = '../inputs/dem_saetde.tif'\n",
    "out_tif_path = '../outputs/rasters/unique_slope_rasters/pala_nova/pala_nova.tif'\n",
    "out_tif_path_imageio = '../outputs/rasters/unique_slope_rasters/pala_nova/pala_nova_imageio.tif'\n",
    "out_slope_path = '../outputs/rasters/unique_slope_rasters/pala_nova/slope_pala_nova.tif'\n",
    "out_aspect_path = '../outputs/rasters/unique_slope_rasters/pala_nova/aspect_pala_nova.tif'\n",
    "slope_name = 'pala_nova'\n",
    "sd_210322_path = '../inputs/snow_depth_data/grau_roig/sd_210322.geojson'\n",
    "\n",
    "input_dem = '../outputs/rasters/unique_slope_rasters/pala_nova/pala_nova.tif'\n",
    "out_slope_path = '../outputs/rasters/unique_slope_rasters/pala_nova/slope_pala_nova.tif'\n",
    "out_aspect_path = '../outputs/rasters/unique_slope_rasters/pala_nova/aspect_pala_nova.tif'"
   ]
  },
  {
   "cell_type": "code",
   "execution_count": 3,
   "metadata": {},
   "outputs": [],
   "source": [
    "#First function test with the 'pala_nova' slope:\n",
    "stats_palanova = automatization.get_stats_trail(trails_3d_path, slope_name, dem_path, out_tif_path, out_tif_path_imageio, out_slope_path, out_aspect_path, sd_210322_path)"
   ]
  },
  {
   "cell_type": "code",
   "execution_count": 4,
   "metadata": {},
   "outputs": [
    {
     "name": "stdout",
     "output_type": "stream",
     "text": [
      "Stats slope:  [[0.0, 0.0, 0.38062209690210347, 0.2447602623330522, 0.37461764076484433, 0.0, 0.0], [0.13689876438457868, 0.3092618125894893, 0.22827066871718726, 0.15370949779922574, 0.10488147637482102, 0.042079864241395766, 0.011613724346396563, 0.003460253486768839, 0.00982393806013682], [0.0, 0.02893964168292983, 0.12871635283154878, 0.8423440054855214]]\n",
      "Stats slope in percentage:  [[0.0, 0.0, 0.38062209690210347, 0.2447602623330522, 0.37461764076484433, 0.0, 0.0], [0.13689876438457868, 0.3092618125894893, 0.22827066871718726, 0.15370949779922574, 0.10488147637482102, 0.042079864241395766, 0.011613724346396563, 0.003460253486768839, 0.00982393806013682], [0.0, 0.02893964168292983, 0.12871635283154878, 0.8423440054855214]]\n"
     ]
    }
   ],
   "source": [
    "#Get region percentatges of the slope:\n",
    "height_list = [1900, 2000, 2100, 2200, 2300, 2400, 2500, 2700]\n",
    "slope_list = [0, 5, 10, 15, 20, 25, 30, 35, 40, 90]\n",
    "aspect_list = [315, 45, 135, 225, 315]\n",
    "list_lists = [height_list, slope_list, aspect_list]\n",
    "\n",
    "result = automatization.get_stats_pctg(input_dem, out_slope_path, out_aspect_path, height_list, slope_list, aspect_list)\n",
    "result_pctg = automatization.num_to_pctg(result)\n",
    "\n",
    "print('Stats slope: ', result)\n",
    "print('Stats slope in percentage: ', result_pctg)"
   ]
  },
  {
   "cell_type": "markdown",
   "metadata": {},
   "source": [
    "## Plotting the data"
   ]
  },
  {
   "cell_type": "code",
   "execution_count": 5,
   "metadata": {},
   "outputs": [],
   "source": [
    "import plotly.subplots as ps\n",
    "import plotly.graph_objects as go"
   ]
  },
  {
   "cell_type": "code",
   "execution_count": 6,
   "metadata": {},
   "outputs": [
    {
     "data": {
      "application/vnd.plotly.v1+json": {
       "config": {
        "plotlyServerURL": "https://plot.ly"
       },
       "data": [
        {
         "domain": {
          "x": [
           0,
           0.2888888888888889
          ],
          "y": [
           0.625,
           1
          ]
         },
         "hole": 0.2,
         "labels": [
          "1900_2000",
          "2000_2100",
          "2100_2200",
          "2200_2300",
          "2300_2400",
          "2400_2500",
          "2500_2700"
         ],
         "legendgroup": "1",
         "name": "Height_trace",
         "showlegend": false,
         "textinfo": "percent+label",
         "textposition": "outside",
         "type": "pie",
         "values": [
          0,
          0,
          0.38062209690210347,
          0.2447602623330522,
          0.37461764076484433,
          0,
          0
         ]
        },
        {
         "domain": {
          "x": [
           0.35555555555555557,
           0.6444444444444445
          ],
          "y": [
           0.625,
           1
          ]
         },
         "hole": 0.2,
         "labels": [
          "0_5",
          "5_10",
          "10_15",
          "15_20",
          "20_25",
          "25_30",
          "30_40",
          "40_90"
         ],
         "legendgroup": "1",
         "name": "Slope_trace",
         "showlegend": false,
         "textinfo": "percent+label",
         "textposition": "outside",
         "type": "pie",
         "values": [
          0.13689876438457868,
          0.3092618125894893,
          0.22827066871718726,
          0.15370949779922574,
          0.10488147637482102,
          0.042079864241395766,
          0.011613724346396563,
          0.003460253486768839,
          0.00982393806013682
         ]
        },
        {
         "domain": {
          "x": [
           0.7111111111111111,
           1
          ],
          "y": [
           0.625,
           1
          ]
         },
         "hole": 0.2,
         "labels": [
          "north",
          "south",
          "west",
          "east"
         ],
         "legendgroup": "1",
         "name": "Aspect_trace",
         "showlegend": false,
         "textinfo": "percent+label",
         "textposition": "outside",
         "type": "pie",
         "values": [
          0,
          0.02893964168292983,
          0.12871635283154878,
          0.8423440054855214
         ]
        },
        {
         "marker": {
          "color": [
           "lightyellow",
           "yellow",
           "orange",
           "orangered",
           "red",
           "purple",
           "violet",
           "blue",
           "darkblue"
          ],
          "line": {
           "color": "black",
           "width": 1
          }
         },
         "name": "Slope_Trail metadata",
         "type": "scatter",
         "x": [
          "Min",
          "Max",
          "Mean",
          "Weighted_Mean",
          "Median",
          "Variance",
          "Standard_Dev",
          "Skeweness",
          "Ranges"
         ],
         "xaxis": "x",
         "y": [
          0.002346073712942598,
          3.2527001945759366,
          1.0788847365573377,
          1.0788847365573377,
          1.0453245118460472,
          0.25158753773713527,
          0.5015850254315167,
          0.5138609466706369,
          3.250354120862994
         ],
         "yaxis": "y"
        }
       ],
       "layout": {
        "annotations": [
         {
          "font": {
           "size": 16
          },
          "showarrow": false,
          "text": "<b> Height_Classification </b>",
          "x": 0.14444444444444446,
          "xanchor": "center",
          "xref": "paper",
          "y": 1,
          "yanchor": "bottom",
          "yref": "paper"
         },
         {
          "font": {
           "size": 16
          },
          "showarrow": false,
          "text": "<b> Slope_Classification </b>",
          "x": 0.5,
          "xanchor": "center",
          "xref": "paper",
          "y": 1,
          "yanchor": "bottom",
          "yref": "paper"
         },
         {
          "font": {
           "size": 16
          },
          "showarrow": false,
          "text": "<b> Aspect_Classification </b>",
          "x": 0.8555555555555556,
          "xanchor": "center",
          "xref": "paper",
          "y": 1,
          "yanchor": "bottom",
          "yref": "paper"
         },
         {
          "font": {
           "size": 16
          },
          "showarrow": false,
          "text": "<b> Snowdepth 21/03/2022",
          "x": 0.14444444444444446,
          "xanchor": "center",
          "xref": "paper",
          "y": 0.375,
          "yanchor": "bottom",
          "yref": "paper"
         }
        ],
        "height": 1000,
        "template": {
         "data": {
          "bar": [
           {
            "error_x": {
             "color": "rgb(51,51,51)"
            },
            "error_y": {
             "color": "rgb(51,51,51)"
            },
            "marker": {
             "line": {
              "color": "rgb(237,237,237)",
              "width": 0.5
             },
             "pattern": {
              "fillmode": "overlay",
              "size": 10,
              "solidity": 0.2
             }
            },
            "type": "bar"
           }
          ],
          "barpolar": [
           {
            "marker": {
             "line": {
              "color": "rgb(237,237,237)",
              "width": 0.5
             },
             "pattern": {
              "fillmode": "overlay",
              "size": 10,
              "solidity": 0.2
             }
            },
            "type": "barpolar"
           }
          ],
          "carpet": [
           {
            "aaxis": {
             "endlinecolor": "rgb(51,51,51)",
             "gridcolor": "white",
             "linecolor": "white",
             "minorgridcolor": "white",
             "startlinecolor": "rgb(51,51,51)"
            },
            "baxis": {
             "endlinecolor": "rgb(51,51,51)",
             "gridcolor": "white",
             "linecolor": "white",
             "minorgridcolor": "white",
             "startlinecolor": "rgb(51,51,51)"
            },
            "type": "carpet"
           }
          ],
          "choropleth": [
           {
            "colorbar": {
             "outlinewidth": 0,
             "tickcolor": "rgb(237,237,237)",
             "ticklen": 6,
             "ticks": "inside"
            },
            "type": "choropleth"
           }
          ],
          "contour": [
           {
            "colorbar": {
             "outlinewidth": 0,
             "tickcolor": "rgb(237,237,237)",
             "ticklen": 6,
             "ticks": "inside"
            },
            "colorscale": [
             [
              0,
              "rgb(20,44,66)"
             ],
             [
              1,
              "rgb(90,179,244)"
             ]
            ],
            "type": "contour"
           }
          ],
          "contourcarpet": [
           {
            "colorbar": {
             "outlinewidth": 0,
             "tickcolor": "rgb(237,237,237)",
             "ticklen": 6,
             "ticks": "inside"
            },
            "type": "contourcarpet"
           }
          ],
          "heatmap": [
           {
            "colorbar": {
             "outlinewidth": 0,
             "tickcolor": "rgb(237,237,237)",
             "ticklen": 6,
             "ticks": "inside"
            },
            "colorscale": [
             [
              0,
              "rgb(20,44,66)"
             ],
             [
              1,
              "rgb(90,179,244)"
             ]
            ],
            "type": "heatmap"
           }
          ],
          "heatmapgl": [
           {
            "colorbar": {
             "outlinewidth": 0,
             "tickcolor": "rgb(237,237,237)",
             "ticklen": 6,
             "ticks": "inside"
            },
            "colorscale": [
             [
              0,
              "rgb(20,44,66)"
             ],
             [
              1,
              "rgb(90,179,244)"
             ]
            ],
            "type": "heatmapgl"
           }
          ],
          "histogram": [
           {
            "marker": {
             "pattern": {
              "fillmode": "overlay",
              "size": 10,
              "solidity": 0.2
             }
            },
            "type": "histogram"
           }
          ],
          "histogram2d": [
           {
            "colorbar": {
             "outlinewidth": 0,
             "tickcolor": "rgb(237,237,237)",
             "ticklen": 6,
             "ticks": "inside"
            },
            "colorscale": [
             [
              0,
              "rgb(20,44,66)"
             ],
             [
              1,
              "rgb(90,179,244)"
             ]
            ],
            "type": "histogram2d"
           }
          ],
          "histogram2dcontour": [
           {
            "colorbar": {
             "outlinewidth": 0,
             "tickcolor": "rgb(237,237,237)",
             "ticklen": 6,
             "ticks": "inside"
            },
            "colorscale": [
             [
              0,
              "rgb(20,44,66)"
             ],
             [
              1,
              "rgb(90,179,244)"
             ]
            ],
            "type": "histogram2dcontour"
           }
          ],
          "mesh3d": [
           {
            "colorbar": {
             "outlinewidth": 0,
             "tickcolor": "rgb(237,237,237)",
             "ticklen": 6,
             "ticks": "inside"
            },
            "type": "mesh3d"
           }
          ],
          "parcoords": [
           {
            "line": {
             "colorbar": {
              "outlinewidth": 0,
              "tickcolor": "rgb(237,237,237)",
              "ticklen": 6,
              "ticks": "inside"
             }
            },
            "type": "parcoords"
           }
          ],
          "pie": [
           {
            "automargin": true,
            "type": "pie"
           }
          ],
          "scatter": [
           {
            "fillpattern": {
             "fillmode": "overlay",
             "size": 10,
             "solidity": 0.2
            },
            "type": "scatter"
           }
          ],
          "scatter3d": [
           {
            "line": {
             "colorbar": {
              "outlinewidth": 0,
              "tickcolor": "rgb(237,237,237)",
              "ticklen": 6,
              "ticks": "inside"
             }
            },
            "marker": {
             "colorbar": {
              "outlinewidth": 0,
              "tickcolor": "rgb(237,237,237)",
              "ticklen": 6,
              "ticks": "inside"
             }
            },
            "type": "scatter3d"
           }
          ],
          "scattercarpet": [
           {
            "marker": {
             "colorbar": {
              "outlinewidth": 0,
              "tickcolor": "rgb(237,237,237)",
              "ticklen": 6,
              "ticks": "inside"
             }
            },
            "type": "scattercarpet"
           }
          ],
          "scattergeo": [
           {
            "marker": {
             "colorbar": {
              "outlinewidth": 0,
              "tickcolor": "rgb(237,237,237)",
              "ticklen": 6,
              "ticks": "inside"
             }
            },
            "type": "scattergeo"
           }
          ],
          "scattergl": [
           {
            "marker": {
             "colorbar": {
              "outlinewidth": 0,
              "tickcolor": "rgb(237,237,237)",
              "ticklen": 6,
              "ticks": "inside"
             }
            },
            "type": "scattergl"
           }
          ],
          "scattermapbox": [
           {
            "marker": {
             "colorbar": {
              "outlinewidth": 0,
              "tickcolor": "rgb(237,237,237)",
              "ticklen": 6,
              "ticks": "inside"
             }
            },
            "type": "scattermapbox"
           }
          ],
          "scatterpolar": [
           {
            "marker": {
             "colorbar": {
              "outlinewidth": 0,
              "tickcolor": "rgb(237,237,237)",
              "ticklen": 6,
              "ticks": "inside"
             }
            },
            "type": "scatterpolar"
           }
          ],
          "scatterpolargl": [
           {
            "marker": {
             "colorbar": {
              "outlinewidth": 0,
              "tickcolor": "rgb(237,237,237)",
              "ticklen": 6,
              "ticks": "inside"
             }
            },
            "type": "scatterpolargl"
           }
          ],
          "scatterternary": [
           {
            "marker": {
             "colorbar": {
              "outlinewidth": 0,
              "tickcolor": "rgb(237,237,237)",
              "ticklen": 6,
              "ticks": "inside"
             }
            },
            "type": "scatterternary"
           }
          ],
          "surface": [
           {
            "colorbar": {
             "outlinewidth": 0,
             "tickcolor": "rgb(237,237,237)",
             "ticklen": 6,
             "ticks": "inside"
            },
            "colorscale": [
             [
              0,
              "rgb(20,44,66)"
             ],
             [
              1,
              "rgb(90,179,244)"
             ]
            ],
            "type": "surface"
           }
          ],
          "table": [
           {
            "cells": {
             "fill": {
              "color": "rgb(237,237,237)"
             },
             "line": {
              "color": "white"
             }
            },
            "header": {
             "fill": {
              "color": "rgb(217,217,217)"
             },
             "line": {
              "color": "white"
             }
            },
            "type": "table"
           }
          ]
         },
         "layout": {
          "annotationdefaults": {
           "arrowhead": 0,
           "arrowwidth": 1
          },
          "autotypenumbers": "strict",
          "coloraxis": {
           "colorbar": {
            "outlinewidth": 0,
            "tickcolor": "rgb(237,237,237)",
            "ticklen": 6,
            "ticks": "inside"
           }
          },
          "colorscale": {
           "sequential": [
            [
             0,
             "rgb(20,44,66)"
            ],
            [
             1,
             "rgb(90,179,244)"
            ]
           ],
           "sequentialminus": [
            [
             0,
             "rgb(20,44,66)"
            ],
            [
             1,
             "rgb(90,179,244)"
            ]
           ]
          },
          "colorway": [
           "#F8766D",
           "#A3A500",
           "#00BF7D",
           "#00B0F6",
           "#E76BF3"
          ],
          "font": {
           "color": "rgb(51,51,51)"
          },
          "geo": {
           "bgcolor": "white",
           "lakecolor": "white",
           "landcolor": "rgb(237,237,237)",
           "showlakes": true,
           "showland": true,
           "subunitcolor": "white"
          },
          "hoverlabel": {
           "align": "left"
          },
          "hovermode": "closest",
          "paper_bgcolor": "white",
          "plot_bgcolor": "rgb(237,237,237)",
          "polar": {
           "angularaxis": {
            "gridcolor": "white",
            "linecolor": "white",
            "showgrid": true,
            "tickcolor": "rgb(51,51,51)",
            "ticks": "outside"
           },
           "bgcolor": "rgb(237,237,237)",
           "radialaxis": {
            "gridcolor": "white",
            "linecolor": "white",
            "showgrid": true,
            "tickcolor": "rgb(51,51,51)",
            "ticks": "outside"
           }
          },
          "scene": {
           "xaxis": {
            "backgroundcolor": "rgb(237,237,237)",
            "gridcolor": "white",
            "gridwidth": 2,
            "linecolor": "white",
            "showbackground": true,
            "showgrid": true,
            "tickcolor": "rgb(51,51,51)",
            "ticks": "outside",
            "zerolinecolor": "white"
           },
           "yaxis": {
            "backgroundcolor": "rgb(237,237,237)",
            "gridcolor": "white",
            "gridwidth": 2,
            "linecolor": "white",
            "showbackground": true,
            "showgrid": true,
            "tickcolor": "rgb(51,51,51)",
            "ticks": "outside",
            "zerolinecolor": "white"
           },
           "zaxis": {
            "backgroundcolor": "rgb(237,237,237)",
            "gridcolor": "white",
            "gridwidth": 2,
            "linecolor": "white",
            "showbackground": true,
            "showgrid": true,
            "tickcolor": "rgb(51,51,51)",
            "ticks": "outside",
            "zerolinecolor": "white"
           }
          },
          "shapedefaults": {
           "fillcolor": "black",
           "line": {
            "width": 0
           },
           "opacity": 0.3
          },
          "ternary": {
           "aaxis": {
            "gridcolor": "white",
            "linecolor": "white",
            "showgrid": true,
            "tickcolor": "rgb(51,51,51)",
            "ticks": "outside"
           },
           "baxis": {
            "gridcolor": "white",
            "linecolor": "white",
            "showgrid": true,
            "tickcolor": "rgb(51,51,51)",
            "ticks": "outside"
           },
           "bgcolor": "rgb(237,237,237)",
           "caxis": {
            "gridcolor": "white",
            "linecolor": "white",
            "showgrid": true,
            "tickcolor": "rgb(51,51,51)",
            "ticks": "outside"
           }
          },
          "xaxis": {
           "automargin": true,
           "gridcolor": "white",
           "linecolor": "white",
           "showgrid": true,
           "tickcolor": "rgb(51,51,51)",
           "ticks": "outside",
           "title": {
            "standoff": 15
           },
           "zerolinecolor": "white"
          },
          "yaxis": {
           "automargin": true,
           "gridcolor": "white",
           "linecolor": "white",
           "showgrid": true,
           "tickcolor": "rgb(51,51,51)",
           "ticks": "outside",
           "title": {
            "standoff": 15
           },
           "zerolinecolor": "white"
          }
         }
        },
        "title": {
         "text": "<b> PALA NOVA METADATA </b>"
        },
        "width": 1800,
        "xaxis": {
         "anchor": "y",
         "domain": [
          0,
          0.2888888888888889
         ],
         "title": {
          "text": "property"
         }
        },
        "xaxis2": {
         "anchor": "y2",
         "domain": [
          0.35555555555555557,
          0.6444444444444445
         ],
         "title": {
          "text": "property"
         }
        },
        "xaxis3": {
         "anchor": "y3",
         "domain": [
          0.7111111111111111,
          1
         ],
         "title": {
          "text": "property"
         }
        },
        "yaxis": {
         "anchor": "x",
         "domain": [
          0,
          0.375
         ],
         "title": {
          "text": "associated_value"
         }
        },
        "yaxis2": {
         "anchor": "x2",
         "domain": [
          0,
          0.375
         ],
         "title": {
          "text": "associated_value"
         }
        },
        "yaxis3": {
         "anchor": "x3",
         "domain": [
          0,
          0.375
         ],
         "title": {
          "text": "associated_value"
         }
        }
       }
      }
     },
     "metadata": {},
     "output_type": "display_data"
    }
   ],
   "source": [
    "#Plotting:\n",
    "data = ['Min', 'Max', 'Mean', 'Weighted_Mean', 'Median', 'Variance', 'Standard_Dev', 'Skeweness', 'Ranges']\n",
    "\n",
    "pctgs = ps.make_subplots(rows=2, cols=3, subplot_titles=['<b> Height_Classification </b>', '<b> Slope_Classification </b>', '<b> Aspect_Classification </b>', '<b> Snowdepth 21/03/2022'], specs=[[{'type':'pie'}, {'type':'pie'}, {'type':'pie'}], [{'type':'bar'}, {'type':'bar'}, {'type':'bar'}]])\n",
    "list_stat = result_pctg\n",
    "\n",
    "aspect_str_list = ['north', 'south', 'west', 'east']\n",
    "height_str_list = ['1900_2000', '2000_2100', '2100_2200', '2200_2300', '2300_2400', '2400_2500', '2500_2700']\n",
    "slope_str_list = ['0_5', '5_10', '10_15', '15_20', '20_25', '25_30', '30_40', '40_90']\n",
    "list_lists = [height_str_list, slope_str_list, aspect_str_list]\n",
    "\n",
    "labels = ['Trace Height', 'Trace Slope', 'Trace Aspect']\n",
    "name_list = ['Height_trace', 'Slope_trace', 'Aspect_trace']\n",
    "\n",
    "for i in range(len(list_stat)):\n",
    "  to_plot = list_stat[i]\n",
    "  list_label = list_lists[i]\n",
    "  pctgs.add_pie(\n",
    "    values=to_plot,\n",
    "    labels=list_label,\n",
    "    \n",
    "    textposition='outside',\n",
    "    textinfo='percent+label',\n",
    "    name=name_list[i],\n",
    "    legendgroup='1',\n",
    "    showlegend=False,\n",
    "    hole= .2,\n",
    "    row=1,\n",
    "    col=i+1 \n",
    "  )\n",
    "\n",
    "pctgs.add_scatter(\n",
    "  x= ['Min', 'Max', 'Mean', 'Weighted_Mean', 'Median', 'Variance', 'Standard_Dev', 'Skeweness', 'Ranges'],\n",
    "  y= stats_palanova,\n",
    "  marker=dict(line=dict(width=1., color='black'), color=['lightyellow','yellow','orange', 'orangered', 'red', 'purple', 'violet', 'blue', 'darkblue']),\n",
    "  name='Slope_Trail metadata',\n",
    "  row=2,\n",
    "  col=1,)\n",
    "pctgs.update_xaxes(title_text='property')\n",
    "pctgs.update_yaxes(title_text='associated_value')\n",
    "pctgs.update_layout(title='<b> PALA NOVA METADATA </b>', width=1800, height=1000, template='ggplot2')"
   ]
  },
  {
   "cell_type": "markdown",
   "metadata": {},
   "source": [
    "## Analysis of the data"
   ]
  },
  {
   "cell_type": "markdown",
   "metadata": {},
   "source": [
    "### Get metadata from the raster"
   ]
  },
  {
   "cell_type": "code",
   "execution_count": 7,
   "metadata": {},
   "outputs": [],
   "source": [
    "#Height distribution\n",
    "height_rast = load_rast.open_raster_array(out_tif_path)\n",
    "height_rast = np.where(height_rast > 3.3999e38, 0., height_rast)\n",
    "\n",
    "height_rast_vals = height_rast[np.where(height_rast != 0.)]\n",
    "sum_height = np.sum(height_rast_vals)\n",
    "count_height = int(height_rast_vals.shape[0])\n",
    "\n",
    "height_1900_2000 = height_rast_vals[np.where((height_rast_vals >= 1900.) & (height_rast_vals < 2000.))]\n",
    "height_2000_2100 = height_rast_vals[np.where((height_rast_vals >= 2000.) & (height_rast_vals < 2100.))]\n",
    "height_2100_2200 = height_rast_vals[np.where((height_rast_vals >= 2100.) & (height_rast_vals < 2200.))]\n",
    "height_2200_2300 = height_rast_vals[np.where((height_rast_vals >= 2200.) & (height_rast_vals < 2300.))]\n",
    "height_2300_2400 = height_rast_vals[np.where((height_rast_vals >= 2300.) & (height_rast_vals < 2400.))]\n",
    "height_2400_2500 = height_rast_vals[np.where((height_rast_vals >= 2400.) & (height_rast_vals < 2500.))]\n",
    "height_2500_2700 = height_rast_vals[np.where((height_rast_vals >= 2500.) & (height_rast_vals <= 2700.))]\n",
    "\n",
    "stats = []\n",
    "#stats = [mean height, ]\n"
   ]
  },
  {
   "cell_type": "code",
   "execution_count": 8,
   "metadata": {},
   "outputs": [],
   "source": [
    "height_list = [height_1900_2000, height_2000_2100, height_2100_2200, height_2200_2300, height_2300_2400, height_2400_2500, height_2500_2700]\n",
    "height_counts_list = [height_1900_2000.shape[0], height_2000_2100.shape[0], height_2100_2200.shape[0], height_2200_2300.shape[0], height_2300_2400.shape[0], height_2400_2500.shape[0], height_2500_2700.shape[0]]\n",
    "height_label = ['1900_2000', '2000_2100', '2100_2200', '2200_2300', '2300_2400', '2400_2500', '2500_2700']\n",
    "percent_height = []\n",
    "\n",
    "for height in height_counts_list:\n",
    "  percent = (height/count_height)*100\n",
    "  percent_height.append(percent)\n",
    "\n",
    "dict_height = {}\n",
    "for i in range(len(height_label)):\n",
    "  dict_height[height_label[i]] = percent_height[i] "
   ]
  },
  {
   "cell_type": "code",
   "execution_count": 9,
   "metadata": {},
   "outputs": [],
   "source": [
    "#We plot the percentatges and the normal values:\n",
    "dict_height\n",
    "\n",
    "height_pctg = height_counts_list.copy()\n",
    "summ = sum(height_counts_list)\n",
    "for j in enumerate(height_counts_list):\n",
    "  height_pctg[j[0]] = (height_counts_list[j[0]] / summ)*100"
   ]
  },
  {
   "cell_type": "code",
   "execution_count": 10,
   "metadata": {},
   "outputs": [
    {
     "data": {
      "application/vnd.plotly.v1+json": {
       "config": {
        "plotlyServerURL": "https://plot.ly"
       },
       "data": [
        {
         "line": {
          "color": "black"
         },
         "marker": {
          "color": [
           "lightyellow",
           "yellow",
           "orange",
           "orangered",
           "red",
           "pink",
           "purple"
          ],
          "line": {
           "color": "black",
           "width": 2
          }
         },
         "name": "Height distribution",
         "type": "scatter",
         "x": [
          "1900_2000",
          "2000_2100",
          "2100_2200",
          "2200_2300",
          "2300_2400",
          "2400_2500",
          "2500_2700"
         ],
         "xaxis": "x",
         "y": [
          0,
          0,
          30237,
          19444,
          29760,
          0,
          0
         ],
         "yaxis": "y"
        },
        {
         "domain": {
          "x": [
           0.55,
           1
          ],
          "y": [
           0,
           1
          ]
         },
         "hole": 0.6,
         "labels": [
          "1900_2000",
          "2000_2100",
          "2100_2200",
          "2200_2300",
          "2300_2400",
          "2400_2500",
          "2500_2700"
         ],
         "textinfo": "percent+label",
         "textposition": "inside",
         "type": "pie",
         "values": [
          0,
          0,
          38.062209690210345,
          24.47602623330522,
          37.461764076484435,
          0,
          0
         ]
        }
       ],
       "layout": {
        "annotations": [
         {
          "font": {
           "size": 16
          },
          "showarrow": false,
          "text": "Trail Height Data",
          "x": 0.225,
          "xanchor": "center",
          "xref": "paper",
          "y": 1,
          "yanchor": "bottom",
          "yref": "paper"
         },
         {
          "font": {
           "size": 16
          },
          "showarrow": false,
          "text": "Percentage Height",
          "x": 0.775,
          "xanchor": "center",
          "xref": "paper",
          "y": 1,
          "yanchor": "bottom",
          "yref": "paper"
         }
        ],
        "template": {
         "data": {
          "bar": [
           {
            "error_x": {
             "color": "#2a3f5f"
            },
            "error_y": {
             "color": "#2a3f5f"
            },
            "marker": {
             "line": {
              "color": "#E5ECF6",
              "width": 0.5
             },
             "pattern": {
              "fillmode": "overlay",
              "size": 10,
              "solidity": 0.2
             }
            },
            "type": "bar"
           }
          ],
          "barpolar": [
           {
            "marker": {
             "line": {
              "color": "#E5ECF6",
              "width": 0.5
             },
             "pattern": {
              "fillmode": "overlay",
              "size": 10,
              "solidity": 0.2
             }
            },
            "type": "barpolar"
           }
          ],
          "carpet": [
           {
            "aaxis": {
             "endlinecolor": "#2a3f5f",
             "gridcolor": "white",
             "linecolor": "white",
             "minorgridcolor": "white",
             "startlinecolor": "#2a3f5f"
            },
            "baxis": {
             "endlinecolor": "#2a3f5f",
             "gridcolor": "white",
             "linecolor": "white",
             "minorgridcolor": "white",
             "startlinecolor": "#2a3f5f"
            },
            "type": "carpet"
           }
          ],
          "choropleth": [
           {
            "colorbar": {
             "outlinewidth": 0,
             "ticks": ""
            },
            "type": "choropleth"
           }
          ],
          "contour": [
           {
            "colorbar": {
             "outlinewidth": 0,
             "ticks": ""
            },
            "colorscale": [
             [
              0,
              "#0d0887"
             ],
             [
              0.1111111111111111,
              "#46039f"
             ],
             [
              0.2222222222222222,
              "#7201a8"
             ],
             [
              0.3333333333333333,
              "#9c179e"
             ],
             [
              0.4444444444444444,
              "#bd3786"
             ],
             [
              0.5555555555555556,
              "#d8576b"
             ],
             [
              0.6666666666666666,
              "#ed7953"
             ],
             [
              0.7777777777777778,
              "#fb9f3a"
             ],
             [
              0.8888888888888888,
              "#fdca26"
             ],
             [
              1,
              "#f0f921"
             ]
            ],
            "type": "contour"
           }
          ],
          "contourcarpet": [
           {
            "colorbar": {
             "outlinewidth": 0,
             "ticks": ""
            },
            "type": "contourcarpet"
           }
          ],
          "heatmap": [
           {
            "colorbar": {
             "outlinewidth": 0,
             "ticks": ""
            },
            "colorscale": [
             [
              0,
              "#0d0887"
             ],
             [
              0.1111111111111111,
              "#46039f"
             ],
             [
              0.2222222222222222,
              "#7201a8"
             ],
             [
              0.3333333333333333,
              "#9c179e"
             ],
             [
              0.4444444444444444,
              "#bd3786"
             ],
             [
              0.5555555555555556,
              "#d8576b"
             ],
             [
              0.6666666666666666,
              "#ed7953"
             ],
             [
              0.7777777777777778,
              "#fb9f3a"
             ],
             [
              0.8888888888888888,
              "#fdca26"
             ],
             [
              1,
              "#f0f921"
             ]
            ],
            "type": "heatmap"
           }
          ],
          "heatmapgl": [
           {
            "colorbar": {
             "outlinewidth": 0,
             "ticks": ""
            },
            "colorscale": [
             [
              0,
              "#0d0887"
             ],
             [
              0.1111111111111111,
              "#46039f"
             ],
             [
              0.2222222222222222,
              "#7201a8"
             ],
             [
              0.3333333333333333,
              "#9c179e"
             ],
             [
              0.4444444444444444,
              "#bd3786"
             ],
             [
              0.5555555555555556,
              "#d8576b"
             ],
             [
              0.6666666666666666,
              "#ed7953"
             ],
             [
              0.7777777777777778,
              "#fb9f3a"
             ],
             [
              0.8888888888888888,
              "#fdca26"
             ],
             [
              1,
              "#f0f921"
             ]
            ],
            "type": "heatmapgl"
           }
          ],
          "histogram": [
           {
            "marker": {
             "pattern": {
              "fillmode": "overlay",
              "size": 10,
              "solidity": 0.2
             }
            },
            "type": "histogram"
           }
          ],
          "histogram2d": [
           {
            "colorbar": {
             "outlinewidth": 0,
             "ticks": ""
            },
            "colorscale": [
             [
              0,
              "#0d0887"
             ],
             [
              0.1111111111111111,
              "#46039f"
             ],
             [
              0.2222222222222222,
              "#7201a8"
             ],
             [
              0.3333333333333333,
              "#9c179e"
             ],
             [
              0.4444444444444444,
              "#bd3786"
             ],
             [
              0.5555555555555556,
              "#d8576b"
             ],
             [
              0.6666666666666666,
              "#ed7953"
             ],
             [
              0.7777777777777778,
              "#fb9f3a"
             ],
             [
              0.8888888888888888,
              "#fdca26"
             ],
             [
              1,
              "#f0f921"
             ]
            ],
            "type": "histogram2d"
           }
          ],
          "histogram2dcontour": [
           {
            "colorbar": {
             "outlinewidth": 0,
             "ticks": ""
            },
            "colorscale": [
             [
              0,
              "#0d0887"
             ],
             [
              0.1111111111111111,
              "#46039f"
             ],
             [
              0.2222222222222222,
              "#7201a8"
             ],
             [
              0.3333333333333333,
              "#9c179e"
             ],
             [
              0.4444444444444444,
              "#bd3786"
             ],
             [
              0.5555555555555556,
              "#d8576b"
             ],
             [
              0.6666666666666666,
              "#ed7953"
             ],
             [
              0.7777777777777778,
              "#fb9f3a"
             ],
             [
              0.8888888888888888,
              "#fdca26"
             ],
             [
              1,
              "#f0f921"
             ]
            ],
            "type": "histogram2dcontour"
           }
          ],
          "mesh3d": [
           {
            "colorbar": {
             "outlinewidth": 0,
             "ticks": ""
            },
            "type": "mesh3d"
           }
          ],
          "parcoords": [
           {
            "line": {
             "colorbar": {
              "outlinewidth": 0,
              "ticks": ""
             }
            },
            "type": "parcoords"
           }
          ],
          "pie": [
           {
            "automargin": true,
            "type": "pie"
           }
          ],
          "scatter": [
           {
            "fillpattern": {
             "fillmode": "overlay",
             "size": 10,
             "solidity": 0.2
            },
            "type": "scatter"
           }
          ],
          "scatter3d": [
           {
            "line": {
             "colorbar": {
              "outlinewidth": 0,
              "ticks": ""
             }
            },
            "marker": {
             "colorbar": {
              "outlinewidth": 0,
              "ticks": ""
             }
            },
            "type": "scatter3d"
           }
          ],
          "scattercarpet": [
           {
            "marker": {
             "colorbar": {
              "outlinewidth": 0,
              "ticks": ""
             }
            },
            "type": "scattercarpet"
           }
          ],
          "scattergeo": [
           {
            "marker": {
             "colorbar": {
              "outlinewidth": 0,
              "ticks": ""
             }
            },
            "type": "scattergeo"
           }
          ],
          "scattergl": [
           {
            "marker": {
             "colorbar": {
              "outlinewidth": 0,
              "ticks": ""
             }
            },
            "type": "scattergl"
           }
          ],
          "scattermapbox": [
           {
            "marker": {
             "colorbar": {
              "outlinewidth": 0,
              "ticks": ""
             }
            },
            "type": "scattermapbox"
           }
          ],
          "scatterpolar": [
           {
            "marker": {
             "colorbar": {
              "outlinewidth": 0,
              "ticks": ""
             }
            },
            "type": "scatterpolar"
           }
          ],
          "scatterpolargl": [
           {
            "marker": {
             "colorbar": {
              "outlinewidth": 0,
              "ticks": ""
             }
            },
            "type": "scatterpolargl"
           }
          ],
          "scatterternary": [
           {
            "marker": {
             "colorbar": {
              "outlinewidth": 0,
              "ticks": ""
             }
            },
            "type": "scatterternary"
           }
          ],
          "surface": [
           {
            "colorbar": {
             "outlinewidth": 0,
             "ticks": ""
            },
            "colorscale": [
             [
              0,
              "#0d0887"
             ],
             [
              0.1111111111111111,
              "#46039f"
             ],
             [
              0.2222222222222222,
              "#7201a8"
             ],
             [
              0.3333333333333333,
              "#9c179e"
             ],
             [
              0.4444444444444444,
              "#bd3786"
             ],
             [
              0.5555555555555556,
              "#d8576b"
             ],
             [
              0.6666666666666666,
              "#ed7953"
             ],
             [
              0.7777777777777778,
              "#fb9f3a"
             ],
             [
              0.8888888888888888,
              "#fdca26"
             ],
             [
              1,
              "#f0f921"
             ]
            ],
            "type": "surface"
           }
          ],
          "table": [
           {
            "cells": {
             "fill": {
              "color": "#EBF0F8"
             },
             "line": {
              "color": "white"
             }
            },
            "header": {
             "fill": {
              "color": "#C8D4E3"
             },
             "line": {
              "color": "white"
             }
            },
            "type": "table"
           }
          ]
         },
         "layout": {
          "annotationdefaults": {
           "arrowcolor": "#2a3f5f",
           "arrowhead": 0,
           "arrowwidth": 1
          },
          "autotypenumbers": "strict",
          "coloraxis": {
           "colorbar": {
            "outlinewidth": 0,
            "ticks": ""
           }
          },
          "colorscale": {
           "diverging": [
            [
             0,
             "#8e0152"
            ],
            [
             0.1,
             "#c51b7d"
            ],
            [
             0.2,
             "#de77ae"
            ],
            [
             0.3,
             "#f1b6da"
            ],
            [
             0.4,
             "#fde0ef"
            ],
            [
             0.5,
             "#f7f7f7"
            ],
            [
             0.6,
             "#e6f5d0"
            ],
            [
             0.7,
             "#b8e186"
            ],
            [
             0.8,
             "#7fbc41"
            ],
            [
             0.9,
             "#4d9221"
            ],
            [
             1,
             "#276419"
            ]
           ],
           "sequential": [
            [
             0,
             "#0d0887"
            ],
            [
             0.1111111111111111,
             "#46039f"
            ],
            [
             0.2222222222222222,
             "#7201a8"
            ],
            [
             0.3333333333333333,
             "#9c179e"
            ],
            [
             0.4444444444444444,
             "#bd3786"
            ],
            [
             0.5555555555555556,
             "#d8576b"
            ],
            [
             0.6666666666666666,
             "#ed7953"
            ],
            [
             0.7777777777777778,
             "#fb9f3a"
            ],
            [
             0.8888888888888888,
             "#fdca26"
            ],
            [
             1,
             "#f0f921"
            ]
           ],
           "sequentialminus": [
            [
             0,
             "#0d0887"
            ],
            [
             0.1111111111111111,
             "#46039f"
            ],
            [
             0.2222222222222222,
             "#7201a8"
            ],
            [
             0.3333333333333333,
             "#9c179e"
            ],
            [
             0.4444444444444444,
             "#bd3786"
            ],
            [
             0.5555555555555556,
             "#d8576b"
            ],
            [
             0.6666666666666666,
             "#ed7953"
            ],
            [
             0.7777777777777778,
             "#fb9f3a"
            ],
            [
             0.8888888888888888,
             "#fdca26"
            ],
            [
             1,
             "#f0f921"
            ]
           ]
          },
          "colorway": [
           "#636efa",
           "#EF553B",
           "#00cc96",
           "#ab63fa",
           "#FFA15A",
           "#19d3f3",
           "#FF6692",
           "#B6E880",
           "#FF97FF",
           "#FECB52"
          ],
          "font": {
           "color": "#2a3f5f"
          },
          "geo": {
           "bgcolor": "white",
           "lakecolor": "white",
           "landcolor": "#E5ECF6",
           "showlakes": true,
           "showland": true,
           "subunitcolor": "white"
          },
          "hoverlabel": {
           "align": "left"
          },
          "hovermode": "closest",
          "mapbox": {
           "style": "light"
          },
          "paper_bgcolor": "white",
          "plot_bgcolor": "#E5ECF6",
          "polar": {
           "angularaxis": {
            "gridcolor": "white",
            "linecolor": "white",
            "ticks": ""
           },
           "bgcolor": "#E5ECF6",
           "radialaxis": {
            "gridcolor": "white",
            "linecolor": "white",
            "ticks": ""
           }
          },
          "scene": {
           "xaxis": {
            "backgroundcolor": "#E5ECF6",
            "gridcolor": "white",
            "gridwidth": 2,
            "linecolor": "white",
            "showbackground": true,
            "ticks": "",
            "zerolinecolor": "white"
           },
           "yaxis": {
            "backgroundcolor": "#E5ECF6",
            "gridcolor": "white",
            "gridwidth": 2,
            "linecolor": "white",
            "showbackground": true,
            "ticks": "",
            "zerolinecolor": "white"
           },
           "zaxis": {
            "backgroundcolor": "#E5ECF6",
            "gridcolor": "white",
            "gridwidth": 2,
            "linecolor": "white",
            "showbackground": true,
            "ticks": "",
            "zerolinecolor": "white"
           }
          },
          "shapedefaults": {
           "line": {
            "color": "#2a3f5f"
           }
          },
          "ternary": {
           "aaxis": {
            "gridcolor": "white",
            "linecolor": "white",
            "ticks": ""
           },
           "baxis": {
            "gridcolor": "white",
            "linecolor": "white",
            "ticks": ""
           },
           "bgcolor": "#E5ECF6",
           "caxis": {
            "gridcolor": "white",
            "linecolor": "white",
            "ticks": ""
           }
          },
          "title": {
           "x": 0.05
          },
          "xaxis": {
           "automargin": true,
           "gridcolor": "white",
           "linecolor": "white",
           "ticks": "",
           "title": {
            "standoff": 15
           },
           "zerolinecolor": "white",
           "zerolinewidth": 2
          },
          "yaxis": {
           "automargin": true,
           "gridcolor": "white",
           "linecolor": "white",
           "ticks": "",
           "title": {
            "standoff": 15
           },
           "zerolinecolor": "white",
           "zerolinewidth": 2
          }
         }
        },
        "title": {
         "text": "Distribution of the slopes"
        },
        "xaxis": {
         "anchor": "y",
         "domain": [
          0,
          0.45
         ],
         "title": {
          "text": "Nb. of points"
         }
        },
        "yaxis": {
         "anchor": "x",
         "domain": [
          0,
          1
         ],
         "title": {
          "text": "Height range"
         }
        }
       }
      }
     },
     "metadata": {},
     "output_type": "display_data"
    }
   ],
   "source": [
    "#Plotting:\n",
    "ranges_x_axis = ['1900_2000', '2000_2100', '2100_2200', '2200_2300', '2300_2400', '2400_2500', '2500_2700']\n",
    "\n",
    "height = ps.make_subplots(rows=1, cols=2, subplot_titles=['Trail Height Data', 'Percentage Height'], specs=[[{'type':'scatter'}, {'type':'pie'}]])\n",
    "height.add_scatter(\n",
    "  x= ranges_x_axis,\n",
    "  y= height_counts_list,\n",
    "  name='Height distribution',\n",
    "  marker=dict(line=dict(width=2, color='black'), color=['lightyellow','yellow','orange', 'orangered', 'red', 'pink','purple']),\n",
    "  row=1, col=1)\n",
    "\n",
    "height.add_pie(\n",
    "  values=height_pctg,\n",
    "  labels=ranges_x_axis,\n",
    "  hole=.6,\n",
    "  textposition='inside',\n",
    "  textinfo='percent+label',\n",
    "  row=1,\n",
    "  col=2)\n",
    "  \n",
    "height.update_layout(title='Distribution of the slopes')\n",
    "height.update_xaxes(title_text='Nb. of points')\n",
    "height.update_yaxes(title_text='Height range')\n",
    "height.update_traces(line=dict(color='black'), selector=dict(type='scatter'))\n",
    "height.show()"
   ]
  },
  {
   "cell_type": "markdown",
   "metadata": {},
   "source": [
    "### Height Evolution"
   ]
  },
  {
   "cell_type": "code",
   "execution_count": 11,
   "metadata": {},
   "outputs": [],
   "source": [
    "import matplotlib.pyplot as plt"
   ]
  },
  {
   "cell_type": "code",
   "execution_count": 12,
   "metadata": {},
   "outputs": [],
   "source": [
    "height_rast = load_rast.open_raster_array(out_tif_path)\n",
    "height_rast = np.where(height_rast > 3.3999e38, 0., height_rast)\n",
    "height_rast_nodata = height_rast[np.where(height_rast != 0.)]\n",
    "x_axis_height = []\n",
    "heights = []\n",
    "for index, height in enumerate(height_rast_nodata):\n",
    "  x_axis_height.append(index)\n",
    "  heights.append(height)"
   ]
  },
  {
   "cell_type": "code",
   "execution_count": 13,
   "metadata": {},
   "outputs": [
    {
     "data": {
      "image/png": "[encoded data removed]",
      "text/plain": [
       "<Figure size 1800x576 with 2 Axes>"
      ]
     },
     "metadata": {
      "needs_background": "light"
     },
     "output_type": "display_data"
    }
   ],
   "source": [
    "plt.figure(figsize=[25,8])\n",
    "plt.scatter(\n",
    "  x=x_axis_height,\n",
    "  y=heights,\n",
    "  s=1,\n",
    "  alpha=1,\n",
    "  c=heights,\n",
    "  cmap='magma'\n",
    ")\n",
    "plt.title('Height evolution of Pala Nova slope')\n",
    "plt.xlabel('nb. of points')\n",
    "plt.ylabel('Height distribution')\n",
    "plt.colorbar()\n",
    "plt.show()"
   ]
  },
  {
   "cell_type": "markdown",
   "metadata": {},
   "source": [
    "### Slope Inclusion"
   ]
  },
  {
   "cell_type": "code",
   "execution_count": 14,
   "metadata": {},
   "outputs": [],
   "source": [
    "slope_rast = load_rast.open_raster_array(out_slope_path)\n",
    "slope_rast = np.nan_to_num(slope_rast)\n",
    "height_full_list = []\n",
    "slope_full_list = []\n",
    "\n",
    "for index, height in enumerate(height_rast):\n",
    "  height_full_list.extend(height)\n",
    "  slope_full_list.extend(slope_rast[index])"
   ]
  },
  {
   "cell_type": "code",
   "execution_count": 15,
   "metadata": {},
   "outputs": [
    {
     "name": "stdout",
     "output_type": "stream",
     "text": [
      "The height_list and slope_list have the same length, being:  635076 elements.\n"
     ]
    }
   ],
   "source": [
    "if len(height_full_list) == len(slope_full_list):\n",
    "  print('The height_list and slope_list have the same length, being: ', len(slope_full_list), 'elements.')"
   ]
  },
  {
   "cell_type": "code",
   "execution_count": 16,
   "metadata": {},
   "outputs": [
    {
     "data": {
      "text/plain": [
       "\"plt.figure(figsize=[25,8])\\nplt.scatter(\\n  x=axis_list,\\n  y=height_full_list,\\n  s=1,\\n  alpha=1,\\n  c=slope_full_list,\\n  cmap='magma'\\n)\\nplt.title('Height evolution of Pala Nova slope')\\nplt.xlabel('nb. of points')\\nplt.ylabel('Height distribution')\\nplt.colorbar()\\nplt.show()\""
      ]
     },
     "execution_count": 16,
     "metadata": {},
     "output_type": "execute_result"
    }
   ],
   "source": [
    "'''plt.figure(figsize=[25,8])\n",
    "plt.scatter(\n",
    "  x=axis_list,\n",
    "  y=height_full_list,\n",
    "  s=1,\n",
    "  alpha=1,\n",
    "  c=slope_full_list,\n",
    "  cmap='magma'\n",
    ")\n",
    "plt.title('Height evolution of Pala Nova slope')\n",
    "plt.xlabel('nb. of points')\n",
    "plt.ylabel('Height distribution')\n",
    "plt.colorbar()\n",
    "plt.show()'''"
   ]
  },
  {
   "cell_type": "code",
   "execution_count": 17,
   "metadata": {},
   "outputs": [],
   "source": [
    "import pandas as pd\n",
    "\n",
    "df_compare = pd.DataFrame(height_full_list)\n",
    "df_compare.columns = ['Height']\n",
    "df_compare['Slope'] = slope_full_list\n",
    "df_compare['equal_0'] = np.where(df_compare['Height'] == df_compare['Slope'], True, False)\n",
    "df_compare['new_slope'] = np.where((df_compare['Height'] == 0.) & (df_compare['Slope'] == 90.), 0., df_compare['Slope'])\n",
    "df_compare['new_height'] = np.where((df_compare['Height'] != 0.) & (df_compare['Slope'] == 0.), 0., df_compare['Height'])"
   ]
  },
  {
   "cell_type": "code",
   "execution_count": 18,
   "metadata": {},
   "outputs": [],
   "source": [
    "slope_full_list = df_compare['new_slope'].tolist()\n",
    "height_full_list = df_compare['new_height'].tolist()"
   ]
  },
  {
   "cell_type": "code",
   "execution_count": 19,
   "metadata": {},
   "outputs": [],
   "source": [
    "def remove_values_from_list(the_list, val):\n",
    "   return [value for value in the_list if value != val]"
   ]
  },
  {
   "cell_type": "code",
   "execution_count": 20,
   "metadata": {},
   "outputs": [
    {
     "name": "stdout",
     "output_type": "stream",
     "text": [
      "Lengths btw. both lists is equal:  79435\n"
     ]
    }
   ],
   "source": [
    "height_list_plot = remove_values_from_list(height_full_list, 0.)\n",
    "slope_list_plot = remove_values_from_list(slope_full_list, 0.)\n",
    "\n",
    "axis_list = []\n",
    "for index, height in enumerate(height_list_plot):\n",
    "  axis_list.append(index)\n",
    "\n",
    "if len(height_list_plot) == len(slope_list_plot):\n",
    "  print('Lengths btw. both lists is equal: ', len(height_list_plot))"
   ]
  },
  {
   "cell_type": "code",
   "execution_count": 21,
   "metadata": {},
   "outputs": [
    {
     "data": {
      "image/png": "[encoded data removed]",
      "text/plain": [
       "<Figure size 1800x576 with 2 Axes>"
      ]
     },
     "metadata": {
      "needs_background": "light"
     },
     "output_type": "display_data"
    }
   ],
   "source": [
    "plt.figure(figsize=[25,8])\n",
    "plt.scatter(\n",
    "  x=axis_list,\n",
    "  y=height_list_plot,\n",
    "  s=1,\n",
    "  alpha=1,\n",
    "  c=slope_list_plot,\n",
    "  cmap='magma'\n",
    ")\n",
    "plt.title('Height evolution of Pala Nova slope')\n",
    "plt.xlabel('nb. of points')\n",
    "plt.ylabel('Height distribution')\n",
    "plt.colorbar()\n",
    "plt.show()"
   ]
  }
 ],
 "metadata": {
  "kernelspec": {
   "display_name": "Python 3.10.5 64-bit (windows store)",
   "language": "python",
   "name": "python3"
  },
  "language_info": {
   "codemirror_mode": {
    "name": "ipython",
    "version": 3
   },
   "file_extension": ".py",
   "mimetype": "text/x-python",
   "name": "python",
   "nbconvert_exporter": "python",
   "pygments_lexer": "ipython3",
   "version": "3.10.5"
  },
  "orig_nbformat": 4,
  "vscode": {
   "interpreter": {
    "hash": "fd712df7b4f585947937c5161deb79685d66de827e7091903764583aa0bcfe2b"
   }
  }
 },
 "nbformat": 4,
 "nbformat_minor": 2
}
