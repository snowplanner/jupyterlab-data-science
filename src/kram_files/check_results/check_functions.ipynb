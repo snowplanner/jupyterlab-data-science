{
 "cells": [
  {
   "cell_type": "code",
   "execution_count": 1,
   "metadata": {},
   "outputs": [
    {
     "name": "stderr",
     "output_type": "stream",
     "text": [
      "C:\\Users\\montse\\AppData\\Local\\Packages\\PythonSoftwareFoundation.Python.3.10_qbz5n2kfra8p0\\LocalCache\\local-packages\\Python310\\site-packages\\geopandas\\_compat.py:112: UserWarning: The Shapely GEOS version (3.10.2-CAPI-1.16.0) is incompatible with the GEOS version PyGEOS was compiled with (3.10.3-CAPI-1.16.1). Conversions between both will be slow.\n",
      "  warnings.warn(\n"
     ]
    }
   ],
   "source": [
    "import pandas as pd\n",
    "import geopandas as gpd\n",
    "import numpy as np\n",
    "import rasterio\n",
    "import imageio\n",
    "import fiona\n",
    "import rioxarray as rxr\n",
    "import matplotlib.pyplot as plt\n",
    "from osgeo import gdal\n",
    "\n",
    "from dem_utils_import import load_rast, gdal_process, load_json, plot_rast\n",
    "import validate_results"
   ]
  },
  {
   "cell_type": "code",
   "execution_count": 2,
   "metadata": {},
   "outputs": [
    {
     "data": {
      "text/html": [
       "<div>\n",
       "<style scoped>\n",
       "    .dataframe tbody tr th:only-of-type {\n",
       "        vertical-align: middle;\n",
       "    }\n",
       "\n",
       "    .dataframe tbody tr th {\n",
       "        vertical-align: top;\n",
       "    }\n",
       "\n",
       "    .dataframe thead th {\n",
       "        text-align: right;\n",
       "    }\n",
       "</style>\n",
       "<table border=\"1\" class=\"dataframe\">\n",
       "  <thead>\n",
       "    <tr style=\"text-align: right;\">\n",
       "      <th></th>\n",
       "      <th>geometry</th>\n",
       "      <th>alt</th>\n",
       "      <th>slope_avg</th>\n",
       "      <th>aspect_avg</th>\n",
       "      <th>slope</th>\n",
       "      <th>aspect</th>\n",
       "      <th>area</th>\n",
       "      <th>null</th>\n",
       "      <th>properties_kram</th>\n",
       "    </tr>\n",
       "  </thead>\n",
       "  <tbody>\n",
       "    <tr>\n",
       "      <th>0</th>\n",
       "      <td>{'type': 'MultiPolygon', 'coordinates': [[[[1....</td>\n",
       "      <td>2400</td>\n",
       "      <td>11.507121</td>\n",
       "      <td>241.895492</td>\n",
       "      <td>20</td>\n",
       "      <td>225</td>\n",
       "      <td>6967.42</td>\n",
       "      <td></td>\n",
       "      <td></td>\n",
       "    </tr>\n",
       "    <tr>\n",
       "      <th>1</th>\n",
       "      <td>{'type': 'MultiPolygon', 'coordinates': [[[[1....</td>\n",
       "      <td>2400</td>\n",
       "      <td>14.240822</td>\n",
       "      <td>217.603011</td>\n",
       "      <td>20</td>\n",
       "      <td>225</td>\n",
       "      <td>9936.70</td>\n",
       "      <td></td>\n",
       "      <td></td>\n",
       "    </tr>\n",
       "    <tr>\n",
       "      <th>2</th>\n",
       "      <td>{'type': 'MultiPolygon', 'coordinates': [[[[1....</td>\n",
       "      <td>2400</td>\n",
       "      <td>15.360473</td>\n",
       "      <td>234.188249</td>\n",
       "      <td>20</td>\n",
       "      <td>225</td>\n",
       "      <td>7466.11</td>\n",
       "      <td></td>\n",
       "      <td></td>\n",
       "    </tr>\n",
       "    <tr>\n",
       "      <th>3</th>\n",
       "      <td>{'type': 'MultiPolygon', 'coordinates': [[[[1....</td>\n",
       "      <td>2400</td>\n",
       "      <td>10.166618</td>\n",
       "      <td>191.478609</td>\n",
       "      <td>20</td>\n",
       "      <td>180</td>\n",
       "      <td>1623.27</td>\n",
       "      <td></td>\n",
       "      <td></td>\n",
       "    </tr>\n",
       "    <tr>\n",
       "      <th>4</th>\n",
       "      <td>{'type': 'MultiPolygon', 'coordinates': [[[[1....</td>\n",
       "      <td>2400</td>\n",
       "      <td>10.467845</td>\n",
       "      <td>141.264385</td>\n",
       "      <td>20</td>\n",
       "      <td>135</td>\n",
       "      <td>81654.25</td>\n",
       "      <td></td>\n",
       "      <td></td>\n",
       "    </tr>\n",
       "    <tr>\n",
       "      <th>...</th>\n",
       "      <td>...</td>\n",
       "      <td>...</td>\n",
       "      <td>...</td>\n",
       "      <td>...</td>\n",
       "      <td>...</td>\n",
       "      <td>...</td>\n",
       "      <td>...</td>\n",
       "      <td>...</td>\n",
       "      <td>...</td>\n",
       "    </tr>\n",
       "    <tr>\n",
       "      <th>82</th>\n",
       "      <td>{'type': 'MultiPolygon', 'coordinates': [[[[1....</td>\n",
       "      <td>2100</td>\n",
       "      <td>9.638921</td>\n",
       "      <td>82.413484</td>\n",
       "      <td>0</td>\n",
       "      <td>-1</td>\n",
       "      <td>4551.00</td>\n",
       "      <td></td>\n",
       "      <td></td>\n",
       "    </tr>\n",
       "    <tr>\n",
       "      <th>83</th>\n",
       "      <td>{'type': 'MultiPolygon', 'coordinates': [[[[1....</td>\n",
       "      <td>2100</td>\n",
       "      <td>15.499603</td>\n",
       "      <td>247.255007</td>\n",
       "      <td>20</td>\n",
       "      <td>225</td>\n",
       "      <td>36.47</td>\n",
       "      <td></td>\n",
       "      <td></td>\n",
       "    </tr>\n",
       "    <tr>\n",
       "      <th>84</th>\n",
       "      <td>{'type': 'MultiPolygon', 'coordinates': [[[[1....</td>\n",
       "      <td>2400</td>\n",
       "      <td>10.914265</td>\n",
       "      <td>154.992152</td>\n",
       "      <td>20</td>\n",
       "      <td>135</td>\n",
       "      <td>17038.40</td>\n",
       "      <td></td>\n",
       "      <td></td>\n",
       "    </tr>\n",
       "    <tr>\n",
       "      <th>85</th>\n",
       "      <td>{'type': 'MultiPolygon', 'coordinates': [[[[1....</td>\n",
       "      <td>2100</td>\n",
       "      <td>19.749536</td>\n",
       "      <td>294.350110</td>\n",
       "      <td>20</td>\n",
       "      <td>315</td>\n",
       "      <td>12088.58</td>\n",
       "      <td></td>\n",
       "      <td></td>\n",
       "    </tr>\n",
       "    <tr>\n",
       "      <th>86</th>\n",
       "      <td>{'type': 'MultiPolygon', 'coordinates': [[[[1....</td>\n",
       "      <td>2400</td>\n",
       "      <td>15.474351</td>\n",
       "      <td>264.621933</td>\n",
       "      <td>20</td>\n",
       "      <td>270</td>\n",
       "      <td>63964.69</td>\n",
       "      <td></td>\n",
       "      <td></td>\n",
       "    </tr>\n",
       "  </tbody>\n",
       "</table>\n",
       "<p>87 rows × 9 columns</p>\n",
       "</div>"
      ],
      "text/plain": [
       "                                             geometry   alt  slope_avg  \\\n",
       "0   {'type': 'MultiPolygon', 'coordinates': [[[[1....  2400  11.507121   \n",
       "1   {'type': 'MultiPolygon', 'coordinates': [[[[1....  2400  14.240822   \n",
       "2   {'type': 'MultiPolygon', 'coordinates': [[[[1....  2400  15.360473   \n",
       "3   {'type': 'MultiPolygon', 'coordinates': [[[[1....  2400  10.166618   \n",
       "4   {'type': 'MultiPolygon', 'coordinates': [[[[1....  2400  10.467845   \n",
       "..                                                ...   ...        ...   \n",
       "82  {'type': 'MultiPolygon', 'coordinates': [[[[1....  2100   9.638921   \n",
       "83  {'type': 'MultiPolygon', 'coordinates': [[[[1....  2100  15.499603   \n",
       "84  {'type': 'MultiPolygon', 'coordinates': [[[[1....  2400  10.914265   \n",
       "85  {'type': 'MultiPolygon', 'coordinates': [[[[1....  2100  19.749536   \n",
       "86  {'type': 'MultiPolygon', 'coordinates': [[[[1....  2400  15.474351   \n",
       "\n",
       "    aspect_avg  slope  aspect      area null properties_kram  \n",
       "0   241.895492     20     225   6967.42                       \n",
       "1   217.603011     20     225   9936.70                       \n",
       "2   234.188249     20     225   7466.11                       \n",
       "3   191.478609     20     180   1623.27                       \n",
       "4   141.264385     20     135  81654.25                       \n",
       "..         ...    ...     ...       ...  ...             ...  \n",
       "82   82.413484      0      -1   4551.00                       \n",
       "83  247.255007     20     225     36.47                       \n",
       "84  154.992152     20     135  17038.40                       \n",
       "85  294.350110     20     315  12088.58                       \n",
       "86  264.621933     20     270  63964.69                       \n",
       "\n",
       "[87 rows x 9 columns]"
      ]
     },
     "execution_count": 2,
     "metadata": {},
     "output_type": "execute_result"
    }
   ],
   "source": [
    "file_path = '../inputs/sru_data/sru_saetde.json'\n",
    "file_to_test = load_json.load_json_file(file_path)\n",
    "features = [feature['geometry'] for feature in file_to_test]\n",
    "\n",
    "#Create a gdf to compare the data\n",
    "file_gdf = gpd.GeoDataFrame(file_to_test)\n",
    "\n",
    "#unpack_dict = file_gdf['properties'].apply(pd.Series)\n",
    "areas_gdf = pd.concat([file_gdf, file_gdf['properties'].apply(pd.Series)], axis=1)\n",
    "areas_gdf.drop(columns= ['type', 'properties', 'id', 'alt_avg', 'alt_min', 'alt_max', 'snowtype', 'configuration_id'], inplace=True)\n",
    "areas_gdf['null'] = ''; areas_gdf['properties_kram'] = ''\n",
    "\n",
    "areas_gdf"
   ]
  },
  {
   "cell_type": "code",
   "execution_count": 3,
   "metadata": {},
   "outputs": [],
   "source": [
    "dem_path = '../outputs/rasters/cropped_dem.tif'\n",
    "out_tif_path = '../outputs/check_sru/saetde_sru2.tif'\n",
    "out_tif_path_imageio = '../outputs/check_sru/saetde_sru_imageio.tif'\n",
    "out_slope_path = '../outputs/check_sru/slope_sru_saetde.tif'\n",
    "out_aspect_path = '../outputs/check_sru/aspect_sru_saetde.tif'"
   ]
  },
  {
   "cell_type": "code",
   "execution_count": null,
   "metadata": {},
   "outputs": [],
   "source": [
    "index = 0\n",
    "\n",
    "for geometry in enumerate(features):\n",
    "  check_processus([geometry[1]], dem_path, out_tif_path, out_tif_path_imageio, out_slope_path, out_aspect_path)\n",
    "  stats = get_properties(out_tif_path, out_slope_path, out_aspect_path)\n",
    "  areas_gdf['properties_kram'].iloc[geometry[1]] = stats\n",
    "  print(index)\n",
    "  index += 1"
   ]
  },
  {
   "cell_type": "code",
   "execution_count": null,
   "metadata": {},
   "outputs": [],
   "source": []
  },
  {
   "cell_type": "code",
   "execution_count": null,
   "metadata": {},
   "outputs": [],
   "source": []
  },
  {
   "cell_type": "code",
   "execution_count": 4,
   "metadata": {},
   "outputs": [],
   "source": [
    "validate_results.check_processus([features[1]], dem_path, out_tif_path, out_tif_path_imageio, out_slope_path, out_aspect_path)\n",
    "#stats = get_properties(out_tif_path, out_slope_path, out_aspect_path)"
   ]
  },
  {
   "cell_type": "code",
   "execution_count": 6,
   "metadata": {},
   "outputs": [],
   "source": [
    "output_path = './test.tif'\n",
    "tif_file = load_rast.open_raster_array(out_tif_path)\n",
    "load_rast.write_raster_array(tif_file, dem_path, output_path)"
   ]
  },
  {
   "cell_type": "code",
   "execution_count": 7,
   "metadata": {},
   "outputs": [
    {
     "data": {
      "image/png": "[encoded data removed]",
      "text/plain": [
       "<Figure size 432x288 with 1 Axes>"
      ]
     },
     "metadata": {
      "needs_background": "light"
     },
     "output_type": "display_data"
    }
   ],
   "source": [
    "plot_rast.quick_show_rasterio(output_path)"
   ]
  },
  {
   "cell_type": "code",
   "execution_count": null,
   "metadata": {},
   "outputs": [],
   "source": [
    "dem_studied = rasterio.open(out_tif_path).read()\n",
    "dem_final = np.where(dem_studied > 3.3999e38, 0., dem_studied)\n",
    "#dem_final = np.where(dem_studied == 0., np.nan, dem_final)\n",
    "dem_final = dem_final[0, :, :]\n",
    "load_rast.write_raster_array(dem_final, dem_path, out_tif_path)"
   ]
  },
  {
   "cell_type": "code",
   "execution_count": null,
   "metadata": {},
   "outputs": [],
   "source": [
    "dem_study = rxr.open_rasterio(out_tif_path)\n",
    "dem_study"
   ]
  },
  {
   "cell_type": "code",
   "execution_count": null,
   "metadata": {},
   "outputs": [],
   "source": [
    "dem = rxr.open_rasterio(dem_path)\n",
    "dem"
   ]
  },
  {
   "cell_type": "code",
   "execution_count": null,
   "metadata": {},
   "outputs": [],
   "source": [
    "original_tif = gdal.Open(dem_path)\n",
    "output_path = './test.tif'\n",
    "nb_raster_band = 1\n",
    "raster_array = gdal.Open(out_tif_path).GetRasterBand(1).ReadAsArray()\n",
    "\n",
    "rows = original_tif.RasterYSize\n",
    "cols = original_tif.RasterXSize\n",
    "driver = gdal.GetDriverByName('GTiff')\n",
    "out_dataset = driver.Create(output_path, cols, rows, 1, gdal.GDT_Float32)\n",
    "geotrans = original_tif.GetGeoTransform()\n",
    "projection = original_tif.GetProjection()\n",
    "out_dataset.SetGeoTransform(geotrans)\n",
    "out_dataset.SetProjection(projection)\n",
    "out_dataset.GetRasterBand(nb_raster_band).WriteArray(raster_array)\n",
    "\n",
    "out_dataset.FlushCache()\n",
    "out_dataset = None"
   ]
  },
  {
   "cell_type": "code",
   "execution_count": null,
   "metadata": {},
   "outputs": [],
   "source": [
    "dem = rxr.open_rasterio(out_tif_path, masked=True).squeeze()\n",
    "dem"
   ]
  },
  {
   "cell_type": "code",
   "execution_count": null,
   "metadata": {},
   "outputs": [],
   "source": [
    "from rasterio.warp import calculate_default_transform, reproject, Resampling\n",
    "\n",
    "cropped_dem_path = '../outputs/rasters/cropped_dem.tif'\n",
    "out_tif_wgs84 = '../outputs/check_sru/saetde_sru_wgs.tif'\n",
    "dst_crs = 'EPSG:4326'\n",
    "\n",
    "with rasterio.open(out_tif_path) as src:\n",
    "    transform, width, height = calculate_default_transform(\n",
    "        src.crs, dst_crs, src.width, src.height, *src.bounds)\n",
    "    kwargs = src.meta.copy()\n",
    "    kwargs.update({\n",
    "        'crs': dst_crs,\n",
    "        'transform': transform,\n",
    "        'width': width,\n",
    "        'height': height\n",
    "    })\n",
    "\n",
    "    with rasterio.open(out_tif_wgs84, 'w', **kwargs) as dst:\n",
    "        for i in range(1, src.count + 1):\n",
    "            reproject(\n",
    "                source=rasterio.band(src, i),\n",
    "                destination=rasterio.band(dst, i),\n",
    "                src_transform=src.transform,\n",
    "                src_crs=src.crs,\n",
    "                dst_transform=transform,\n",
    "                dst_crs=dst_crs,\n",
    "                resampling=Resampling.nearest)"
   ]
  },
  {
   "cell_type": "code",
   "execution_count": null,
   "metadata": {},
   "outputs": [],
   "source": [
    "trails_path = '../outputs/geojson/trails_2d.shp'\n",
    "rast = rasterio.open(out_tif_path)\n",
    "dem = rasterio.open(dem_path)\n",
    "\n",
    "#crop_dem = rasterio.open(cropped_dem_path).read()\n",
    "#crop_dem = np.where(crop_dem > 3.3999e38, 0., crop_dem)\n",
    "trails = gpd.read_file(trails_path)\n",
    "\n",
    "f, ax = plt.subplots(figsize=(15,15))\n",
    "rasterio.plot.show(rast, ax=ax, cmap='magma') #with_bounds = True, ax=ax, cmap='magma')\n",
    "rasterio.plot.show(dem, ax=ax, alpha=0.3)\n",
    "#trails.plot(ax=ax, edgecolor = 'k')\n",
    "plt.show()"
   ]
  },
  {
   "cell_type": "code",
   "execution_count": null,
   "metadata": {},
   "outputs": [],
   "source": [
    "crop_dem.read()"
   ]
  },
  {
   "cell_type": "markdown",
   "metadata": {},
   "source": [
    "- Set CRS to both files\n",
    "- Reprojection\n",
    "- Save the raster with the proper function"
   ]
  },
  {
   "cell_type": "markdown",
   "metadata": {},
   "source": []
  }
 ],
 "metadata": {
  "kernelspec": {
   "display_name": "Python 3.10.5 64-bit (windows store)",
   "language": "python",
   "name": "python3"
  },
  "language_info": {
   "codemirror_mode": {
    "name": "ipython",
    "version": 3
   },
   "file_extension": ".py",
   "mimetype": "text/x-python",
   "name": "python",
   "nbconvert_exporter": "python",
   "pygments_lexer": "ipython3",
   "version": "3.10.5"
  },
  "orig_nbformat": 4,
  "vscode": {
   "interpreter": {
    "hash": "fd712df7b4f585947937c5161deb79685d66de827e7091903764583aa0bcfe2b"
   }
  }
 },
 "nbformat": 4,
 "nbformat_minor": 2
}
